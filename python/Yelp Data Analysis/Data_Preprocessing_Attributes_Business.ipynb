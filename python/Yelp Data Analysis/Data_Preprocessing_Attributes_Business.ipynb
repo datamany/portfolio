{
 "cells": [
  {
   "cell_type": "markdown",
   "metadata": {},
   "source": [
    "# Project Description"
   ]
  },
  {
   "cell_type": "markdown",
   "metadata": {},
   "source": [
    "This project is about how star rate is important in Restaurant & Cafe (named as R&C afterwards) industry. \n",
    "\n",
    "For this research YELP dataset will be used."
   ]
  },
  {
   "cell_type": "markdown",
   "metadata": {},
   "source": [
    "# Data Preparation"
   ]
  },
  {
   "cell_type": "code",
   "execution_count": 2,
   "metadata": {},
   "outputs": [],
   "source": [
    "#Library section\n",
    "import pandas as pd\n",
    "import numpy as np\n",
    "import matplotlib.pyplot as plt\n",
    "import re"
   ]
  },
  {
   "cell_type": "markdown",
   "metadata": {},
   "source": [
    "First let's open the file"
   ]
  },
  {
   "cell_type": "code",
   "execution_count": 3,
   "metadata": {},
   "outputs": [
    {
     "name": "stdout",
     "output_type": "stream",
     "text": [
      "<class 'pandas.core.frame.DataFrame'>\n",
      "RangeIndex: 192609 entries, 0 to 192608\n",
      "Data columns (total 14 columns):\n",
      "address         192609 non-null object\n",
      "attributes      163773 non-null object\n",
      "business_id     192609 non-null object\n",
      "categories      192127 non-null object\n",
      "city            192609 non-null object\n",
      "hours           147779 non-null object\n",
      "is_open         192609 non-null int64\n",
      "latitude        192609 non-null float64\n",
      "longitude       192609 non-null float64\n",
      "name            192609 non-null object\n",
      "postal_code     192609 non-null object\n",
      "review_count    192609 non-null int64\n",
      "stars           192609 non-null float64\n",
      "state           192609 non-null object\n",
      "dtypes: float64(3), int64(2), object(9)\n",
      "memory usage: 20.6+ MB\n"
     ]
    }
   ],
   "source": [
    "bus_df = pd.read_json(r'business.json', lines = True)\n",
    "bus_df.info()"
   ]
  },
  {
   "cell_type": "code",
   "execution_count": 4,
   "metadata": {},
   "outputs": [
    {
     "data": {
      "text/html": [
       "<div>\n",
       "<style scoped>\n",
       "    .dataframe tbody tr th:only-of-type {\n",
       "        vertical-align: middle;\n",
       "    }\n",
       "\n",
       "    .dataframe tbody tr th {\n",
       "        vertical-align: top;\n",
       "    }\n",
       "\n",
       "    .dataframe thead th {\n",
       "        text-align: right;\n",
       "    }\n",
       "</style>\n",
       "<table border=\"1\" class=\"dataframe\">\n",
       "  <thead>\n",
       "    <tr style=\"text-align: right;\">\n",
       "      <th></th>\n",
       "      <th>address</th>\n",
       "      <th>attributes</th>\n",
       "      <th>business_id</th>\n",
       "      <th>categories</th>\n",
       "      <th>city</th>\n",
       "      <th>hours</th>\n",
       "      <th>is_open</th>\n",
       "      <th>latitude</th>\n",
       "      <th>longitude</th>\n",
       "      <th>name</th>\n",
       "      <th>postal_code</th>\n",
       "      <th>review_count</th>\n",
       "      <th>stars</th>\n",
       "      <th>state</th>\n",
       "    </tr>\n",
       "  </thead>\n",
       "  <tbody>\n",
       "    <tr>\n",
       "      <th>0</th>\n",
       "      <td>2818 E Camino Acequia Drive</td>\n",
       "      <td>{'GoodForKids': 'False'}</td>\n",
       "      <td>1SWheh84yJXfytovILXOAQ</td>\n",
       "      <td>Golf, Active Life</td>\n",
       "      <td>Phoenix</td>\n",
       "      <td>None</td>\n",
       "      <td>0</td>\n",
       "      <td>33.522143</td>\n",
       "      <td>-112.018481</td>\n",
       "      <td>Arizona Biltmore Golf Club</td>\n",
       "      <td>85016</td>\n",
       "      <td>5</td>\n",
       "      <td>3.0</td>\n",
       "      <td>AZ</td>\n",
       "    </tr>\n",
       "    <tr>\n",
       "      <th>1</th>\n",
       "      <td>30 Eglinton Avenue W</td>\n",
       "      <td>{'RestaurantsReservations': 'True', 'GoodForMe...</td>\n",
       "      <td>QXAEGFB4oINsVuTFxEYKFQ</td>\n",
       "      <td>Specialty Food, Restaurants, Dim Sum, Imported...</td>\n",
       "      <td>Mississauga</td>\n",
       "      <td>{'Monday': '9:0-0:0', 'Tuesday': '9:0-0:0', 'W...</td>\n",
       "      <td>1</td>\n",
       "      <td>43.605499</td>\n",
       "      <td>-79.652289</td>\n",
       "      <td>Emerald Chinese Restaurant</td>\n",
       "      <td>L5R 3E7</td>\n",
       "      <td>128</td>\n",
       "      <td>2.5</td>\n",
       "      <td>ON</td>\n",
       "    </tr>\n",
       "  </tbody>\n",
       "</table>\n",
       "</div>"
      ],
      "text/plain": [
       "                       address  \\\n",
       "0  2818 E Camino Acequia Drive   \n",
       "1         30 Eglinton Avenue W   \n",
       "\n",
       "                                          attributes             business_id  \\\n",
       "0                           {'GoodForKids': 'False'}  1SWheh84yJXfytovILXOAQ   \n",
       "1  {'RestaurantsReservations': 'True', 'GoodForMe...  QXAEGFB4oINsVuTFxEYKFQ   \n",
       "\n",
       "                                          categories         city  \\\n",
       "0                                  Golf, Active Life      Phoenix   \n",
       "1  Specialty Food, Restaurants, Dim Sum, Imported...  Mississauga   \n",
       "\n",
       "                                               hours  is_open   latitude  \\\n",
       "0                                               None        0  33.522143   \n",
       "1  {'Monday': '9:0-0:0', 'Tuesday': '9:0-0:0', 'W...        1  43.605499   \n",
       "\n",
       "    longitude                        name postal_code  review_count  stars  \\\n",
       "0 -112.018481  Arizona Biltmore Golf Club       85016             5    3.0   \n",
       "1  -79.652289  Emerald Chinese Restaurant     L5R 3E7           128    2.5   \n",
       "\n",
       "  state  \n",
       "0    AZ  \n",
       "1    ON  "
      ]
     },
     "execution_count": 4,
     "metadata": {},
     "output_type": "execute_result"
    }
   ],
   "source": [
    "bus_df.head(2)"
   ]
  },
  {
   "cell_type": "code",
   "execution_count": 5,
   "metadata": {},
   "outputs": [
    {
     "data": {
      "text/plain": [
       "{'RestaurantsReservations': 'True',\n",
       " 'GoodForMeal': \"{'dessert': False, 'latenight': False, 'lunch': True, 'dinner': True, 'brunch': False, 'breakfast': False}\",\n",
       " 'BusinessParking': \"{'garage': False, 'street': False, 'validated': False, 'lot': True, 'valet': False}\",\n",
       " 'Caters': 'True',\n",
       " 'NoiseLevel': \"u'loud'\",\n",
       " 'RestaurantsTableService': 'True',\n",
       " 'RestaurantsTakeOut': 'True',\n",
       " 'RestaurantsPriceRange2': '2',\n",
       " 'OutdoorSeating': 'False',\n",
       " 'BikeParking': 'False',\n",
       " 'Ambience': \"{'romantic': False, 'intimate': False, 'classy': False, 'hipster': False, 'divey': False, 'touristy': False, 'trendy': False, 'upscale': False, 'casual': True}\",\n",
       " 'HasTV': 'False',\n",
       " 'WiFi': \"u'no'\",\n",
       " 'GoodForKids': 'True',\n",
       " 'Alcohol': \"u'full_bar'\",\n",
       " 'RestaurantsAttire': \"u'casual'\",\n",
       " 'RestaurantsGoodForGroups': 'True',\n",
       " 'RestaurantsDelivery': 'False'}"
      ]
     },
     "execution_count": 5,
     "metadata": {},
     "output_type": "execute_result"
    }
   ],
   "source": [
    "bus_df.attributes[1]"
   ]
  },
  {
   "cell_type": "markdown",
   "metadata": {},
   "source": [
    "Now we have uploaded the dataset with almost 200k rows, however it contains all busineses. For our research we have to  filter only those that relate to FOOD Industry. But first, lets work a bit with 'categories' column in order to see, what are the most top categories and which relate to food."
   ]
  },
  {
   "cell_type": "code",
   "execution_count": 6,
   "metadata": {},
   "outputs": [
    {
     "data": {
      "text/plain": [
       "(192127, 14)"
      ]
     },
     "execution_count": 6,
     "metadata": {},
     "output_type": "execute_result"
    }
   ],
   "source": [
    "# Drop off Null values from categories\n",
    "bus_df = bus_df[bus_df.categories.notnull()]\n",
    "bus_df.shape"
   ]
  },
  {
   "cell_type": "code",
   "execution_count": 7,
   "metadata": {},
   "outputs": [],
   "source": [
    "# categories transfromation and cleaning\n",
    "def words_to_elements(string):\n",
    "    text_clean = re.sub('\\s+',' ', string).strip().lower()#.replace(\" \",\"\").split(\",\")\n",
    "    return text_clean\n",
    "bus_df['cat_clean'] = bus_df.categories.apply(words_to_elements)"
   ]
  },
  {
   "cell_type": "code",
   "execution_count": 12,
   "metadata": {},
   "outputs": [
    {
     "data": {
      "image/png": "[encoded data removed]",
      "text/plain": [
       "<Figure size 1440x1080 with 1 Axes>"
      ]
     },
     "metadata": {
      "needs_background": "light"
     },
     "output_type": "display_data"
    }
   ],
   "source": [
    "temp_ser =pd.Series(bus_df.cat_clean.tolist())\n",
    "temp_ser.value_counts().head(20).sort_values(ascending = True).plot.barh(figsize = (20,15))\n",
    "plt.rcParams.update({'font.size': 26})\n",
    "#plt.savefig('categories.png')"
   ]
  },
  {
   "cell_type": "markdown",
   "metadata": {},
   "source": [
    "Well from the plot above we can see that obviously 'restaurants' category is the most powerful among whole dataset. So deffinetly we will pick it up for our R&C industry observation. Moreover we will also collect 'pizza' and 'tea'. We will not take 'food' as it also might relate to 'grocery' category, which we are not interested in. Thus let's update our dataFrame with new category. "
   ]
  },
  {
   "cell_type": "code",
   "execution_count": 13,
   "metadata": {},
   "outputs": [
    {
     "data": {
      "text/plain": [
       "(63056, 15)"
      ]
     },
     "execution_count": 13,
     "metadata": {},
     "output_type": "execute_result"
    }
   ],
   "source": [
    "word = 'restaurants|pizza|coffee'\n",
    "resta = bus_df.categories.str.contains(word,flags=re.IGNORECASE, regex = True, na = False)\n",
    "\n",
    "rest = bus_df[resta]\n",
    "rest.shape"
   ]
  },
  {
   "cell_type": "markdown",
   "metadata": {},
   "source": [
    "Now our dataset decreased to a bit more then 60k. Lets update the index and store our new dataset to our physical memory."
   ]
  },
  {
   "cell_type": "code",
   "execution_count": 14,
   "metadata": {},
   "outputs": [],
   "source": [
    "#rest = rest.reset_index(drop = True)\n",
    "#rest.to_csv('restaurants_business.csv', index = False)"
   ]
  },
  {
   "cell_type": "markdown",
   "metadata": {},
   "source": [
    "----------------------------------------------------------------------------------------------------------------------------------------------------------------------"
   ]
  },
  {
   "cell_type": "code",
   "execution_count": null,
   "metadata": {},
   "outputs": [],
   "source": [
    "#Library section\n",
    "import pandas as pd\n",
    "import numpy as np\n",
    "import matplotlib as pyplot\n",
    "#import seaborn as sns\n",
    "import re"
   ]
  },
  {
   "cell_type": "code",
   "execution_count": null,
   "metadata": {},
   "outputs": [],
   "source": [
    "rest = pd.read_csv('restaurants_business.csv')"
   ]
  },
  {
   "cell_type": "markdown",
   "metadata": {},
   "source": [
    "So as a reminder our purpose is to find out how star rating influence the business behavior in R&C industry a?\n",
    "\n",
    "First we will work with the second part of the problem and will try to find out the which features correlate to star raiting.\n",
    "\n",
    "Thus lets again take a look on our data frame and see what can we do with it."
   ]
  },
  {
   "cell_type": "code",
   "execution_count": null,
   "metadata": {},
   "outputs": [],
   "source": [
    "rest.info()"
   ]
  },
  {
   "cell_type": "markdown",
   "metadata": {},
   "source": [
    "We have quite interesting column named 'attributes'. It would be great to unpack it, however 1st we should check the format of it."
   ]
  },
  {
   "cell_type": "code",
   "execution_count": null,
   "metadata": {},
   "outputs": [],
   "source": [
    "#attr = pd.DataFrame(rest.attributes)\n",
    "attr = rest[['business_id','attributes']]\n",
    "attr.attributes[1]"
   ]
  },
  {
   "cell_type": "markdown",
   "metadata": {},
   "source": [
    "Oh no. Does not look good at all. It pretend to be a python dictionary, or json, but it is non of these and it is not possible to work with it at all. Thus, before extarcting any useful data from there, we have to make real spring cleaning. Let's write the function that will first transfrom our string formated inputs into rigth format. Afterwards with the use of 'ast' library, we will convert it to 'python dictionary' format."
   ]
  },
  {
   "cell_type": "code",
   "execution_count": null,
   "metadata": {},
   "outputs": [],
   "source": [
    "def clean_to_python_dict(messy_jucy_jason):\n",
    "    if isinstance(messy_jucy_jason, str):   \n",
    "        from ast import literal_eval\n",
    "        cleaning = messy_jucy_jason.replace(\"'\",'\"').replace('\"u\"','\"').replace('\"\"','\"').replace('\"',\"'\").replace(\"'{'\", \"{'\").replace(\"'}'\",\"}\").replace(\"}'\",\"}\").replace(\"'True'\",\"True\").replace(\"'False'\",\"False\").replace(\"'{\", \"{\")\n",
    "        python_dict_finally = literal_eval(cleaning)\n",
    "        return python_dict_finally\n",
    "    else:\n",
    "        return messy_jucy_jason\n",
    "attr['attr_dicts']= attr.attributes.apply(clean_to_python_dict)\n",
    "attr = attr[['business_id','attr_dicts']]"
   ]
  },
  {
   "cell_type": "code",
   "execution_count": null,
   "metadata": {},
   "outputs": [],
   "source": [
    "attr.head()"
   ]
  },
  {
   "cell_type": "markdown",
   "metadata": {},
   "source": [
    "Now much better. We can work with it.\n",
    "\n",
    "So the next step is to unpack all vocabularies and see, what we have. For this purpose we will write the function, that will unpack dictionaries level by level. In other words, if we unpack once, and store it to dataframe and see that in some columns we will notice another dictionaries - then we unpack again, until no dictionaries left."
   ]
  },
  {
   "cell_type": "code",
   "execution_count": null,
   "metadata": {},
   "outputs": [],
   "source": [
    "#clmn_names_with_dicts\n",
    "def unpack(df):\n",
    "    dict_store_df=pd.DataFrame({'business_id':[]})\n",
    "    #for clmn_num in range(df.shape[1]):\n",
    "    for clm in df:\n",
    "        dict_package_lst = []\n",
    "        index = []\n",
    "        #df.iloc[:,clmn_num]\n",
    "        for i in range(len(df)):\n",
    "            if isinstance (df[clm][i], dict):\n",
    "                dict_package_lst.append(df[clm][i])\n",
    "                index.append(df['business_id'][i])\n",
    "        new_df = pd.DataFrame(dict_package_lst, dtype=object)\n",
    "        new_df.insert(0,'business_id', index, True)\n",
    "        #original#dict_store_df = dict_store_df.append(new_df,)\n",
    "        dict_store_df = pd.merge(dict_store_df,new_df, how = 'outer')\n",
    "    return dict_store_df\n",
    "#fst_dict_df = unpack(unpack_dict_df)"
   ]
  },
  {
   "cell_type": "code",
   "execution_count": 85,
   "metadata": {},
   "outputs": [
    {
     "name": "stdout",
     "output_type": "stream",
     "text": [
      "(60713, 40)\n"
     ]
    },
    {
     "data": {
      "text/html": [
       "<div>\n",
       "<style scoped>\n",
       "    .dataframe tbody tr th:only-of-type {\n",
       "        vertical-align: middle;\n",
       "    }\n",
       "\n",
       "    .dataframe tbody tr th {\n",
       "        vertical-align: top;\n",
       "    }\n",
       "\n",
       "    .dataframe thead th {\n",
       "        text-align: right;\n",
       "    }\n",
       "</style>\n",
       "<table border=\"1\" class=\"dataframe\">\n",
       "  <thead>\n",
       "    <tr style=\"text-align: right;\">\n",
       "      <th></th>\n",
       "      <th>business_id</th>\n",
       "      <th>AcceptsInsurance</th>\n",
       "      <th>AgesAllowed</th>\n",
       "      <th>Alcohol</th>\n",
       "      <th>Ambience</th>\n",
       "      <th>BYOB</th>\n",
       "      <th>BYOBCorkage</th>\n",
       "      <th>BestNights</th>\n",
       "      <th>BikeParking</th>\n",
       "      <th>BusinessAcceptsBitcoin</th>\n",
       "      <th>...</th>\n",
       "      <th>RestaurantsCounterService</th>\n",
       "      <th>RestaurantsDelivery</th>\n",
       "      <th>RestaurantsGoodForGroups</th>\n",
       "      <th>RestaurantsPriceRange2</th>\n",
       "      <th>RestaurantsReservations</th>\n",
       "      <th>RestaurantsTableService</th>\n",
       "      <th>RestaurantsTakeOut</th>\n",
       "      <th>Smoking</th>\n",
       "      <th>WheelchairAccessible</th>\n",
       "      <th>WiFi</th>\n",
       "    </tr>\n",
       "  </thead>\n",
       "  <tbody>\n",
       "    <tr>\n",
       "      <th>0</th>\n",
       "      <td>QXAEGFB4oINsVuTFxEYKFQ</td>\n",
       "      <td>NaN</td>\n",
       "      <td>NaN</td>\n",
       "      <td>full_bar</td>\n",
       "      <td>{'romantic': False, 'intimate': False, 'classy...</td>\n",
       "      <td>NaN</td>\n",
       "      <td>NaN</td>\n",
       "      <td>NaN</td>\n",
       "      <td>False</td>\n",
       "      <td>NaN</td>\n",
       "      <td>...</td>\n",
       "      <td>NaN</td>\n",
       "      <td>False</td>\n",
       "      <td>True</td>\n",
       "      <td>2</td>\n",
       "      <td>True</td>\n",
       "      <td>True</td>\n",
       "      <td>True</td>\n",
       "      <td>NaN</td>\n",
       "      <td>NaN</td>\n",
       "      <td>no</td>\n",
       "    </tr>\n",
       "  </tbody>\n",
       "</table>\n",
       "<p>1 rows × 40 columns</p>\n",
       "</div>"
      ],
      "text/plain": [
       "              business_id AcceptsInsurance AgesAllowed   Alcohol  \\\n",
       "0  QXAEGFB4oINsVuTFxEYKFQ              NaN         NaN  full_bar   \n",
       "\n",
       "                                            Ambience BYOB BYOBCorkage  \\\n",
       "0  {'romantic': False, 'intimate': False, 'classy...  NaN         NaN   \n",
       "\n",
       "  BestNights BikeParking BusinessAcceptsBitcoin  ...  \\\n",
       "0        NaN       False                    NaN  ...   \n",
       "\n",
       "  RestaurantsCounterService RestaurantsDelivery RestaurantsGoodForGroups  \\\n",
       "0                       NaN               False                     True   \n",
       "\n",
       "  RestaurantsPriceRange2 RestaurantsReservations RestaurantsTableService  \\\n",
       "0                      2                    True                    True   \n",
       "\n",
       "  RestaurantsTakeOut Smoking WheelchairAccessible WiFi  \n",
       "0               True     NaN                  NaN   no  \n",
       "\n",
       "[1 rows x 40 columns]"
      ]
     },
     "execution_count": 85,
     "metadata": {},
     "output_type": "execute_result"
    }
   ],
   "source": [
    "unpack_dict_df  = unpack(attr)\n",
    "print(unpack_dict_df.shape)\n",
    "unpack_dict_df.head(1)"
   ]
  },
  {
   "cell_type": "markdown",
   "metadata": {},
   "source": [
    "Alright, first level is done and we got new dataframe, with 40 columns. Now is time to write the function that will return us the list with column names in our DF where we still left some dictionary data."
   ]
  },
  {
   "cell_type": "code",
   "execution_count": 84,
   "metadata": {},
   "outputs": [],
   "source": [
    "# Function returns list with columns containing dictionaries\n",
    "def find_dict_columns(df):\n",
    "    dict_columns_lst =[]\n",
    "    for clm in df:\n",
    "        df1 = df[clm][df[clm].notnull()]\n",
    "        for i in df1.index: #range(len (df)):\n",
    "            if isinstance (df1.loc[i], dict):\n",
    "                dict_columns_lst.append(clm)\n",
    "                break\n",
    "    return dict_columns_lst"
   ]
  },
  {
   "cell_type": "code",
   "execution_count": 86,
   "metadata": {},
   "outputs": [
    {
     "data": {
      "text/plain": [
       "['attr_dicts']"
      ]
     },
     "execution_count": 86,
     "metadata": {},
     "output_type": "execute_result"
    }
   ],
   "source": [
    "find_dict_columns(attr)"
   ]
  },
  {
   "cell_type": "markdown",
   "metadata": {},
   "source": [
    "Test above, shows that our function works. Thus we will go with the following script:\n",
    "1. Replace possible Nan values, such as 'None', 'none' to actual None value format\n",
    "2. run find_dict_columns function to return the list with dictionary columns\n",
    "3. merge DataFrames (previously created with new one, containing next level dictionaries)\n",
    "4. drop columns, with dictionaries returned on 2nd step\n",
    "5. run steps 1-4 while len(list) on 2nd step will not be equal to 0\n",
    "\n",
    "The question is why would not we put it in a loop? Well the problem is that step number 2 is quite heavy and at least on my machine (Windows 10, 4 cores, 8 GB RAM) the error comes up, while running as a one cell. Thus will do it manually."
   ]
  },
  {
   "cell_type": "code",
   "execution_count": 87,
   "metadata": {},
   "outputs": [],
   "source": [
    "unpack_dict_df = unpack_dict_df.replace(['None','none'], None)"
   ]
  },
  {
   "cell_type": "code",
   "execution_count": 88,
   "metadata": {},
   "outputs": [
    {
     "data": {
      "text/plain": [
       "['Ambience',\n",
       " 'BestNights',\n",
       " 'BusinessParking',\n",
       " 'DietaryRestrictions',\n",
       " 'GoodForMeal',\n",
       " 'HairSpecializesIn',\n",
       " 'Music']"
      ]
     },
     "execution_count": 88,
     "metadata": {},
     "output_type": "execute_result"
    }
   ],
   "source": [
    "unpack_dict_lst = find_dict_columns(unpack_dict_df)\n",
    "unpack_dict_lst"
   ]
  },
  {
   "cell_type": "code",
   "execution_count": 90,
   "metadata": {},
   "outputs": [],
   "source": [
    "#unpack_dict_df = unpack_dict_df.append(unpack(unpack_dict_df))\n",
    "unpack_dict_df = pd.merge(unpack_dict_df,unpack(unpack_dict_df), how = 'outer')\n",
    "unpack_dict_df = unpack_dict_df.drop(unpack_dict_lst, axis = 1)"
   ]
  },
  {
   "cell_type": "code",
   "execution_count": 91,
   "metadata": {},
   "outputs": [
    {
     "data": {
      "text/plain": [
       "(60713, 82)"
      ]
     },
     "execution_count": 91,
     "metadata": {},
     "output_type": "execute_result"
    }
   ],
   "source": [
    "unpack_dict_df.shape"
   ]
  },
  {
   "cell_type": "code",
   "execution_count": 92,
   "metadata": {},
   "outputs": [
    {
     "data": {
      "text/plain": [
       "[]"
      ]
     },
     "execution_count": 92,
     "metadata": {},
     "output_type": "execute_result"
    }
   ],
   "source": [
    "unpack_dict_lst = find_dict_columns(unpack_dict_df)\n",
    "unpack_dict_lst"
   ]
  },
  {
   "cell_type": "code",
   "execution_count": 96,
   "metadata": {},
   "outputs": [
    {
     "data": {
      "text/plain": [
       "(60713, 82)"
      ]
     },
     "execution_count": 96,
     "metadata": {},
     "output_type": "execute_result"
    }
   ],
   "source": [
    "unpack_dict_df.shape"
   ]
  },
  {
   "cell_type": "markdown",
   "metadata": {},
   "source": [
    "Done. All dictionaries are unpacked and stored to our new data frame. Next step would be to make data exploration on our new data frame. However, before we will store it as a new csv."
   ]
  },
  {
   "cell_type": "code",
   "execution_count": 97,
   "metadata": {},
   "outputs": [],
   "source": [
    "#unpack_dict_df.to_csv('attributes_unpacked_business.csv', index = False)"
   ]
  },
  {
   "cell_type": "markdown",
   "metadata": {},
   "source": [
    "------------------------------------------------------------------------------------------------------------------------"
   ]
  },
  {
   "cell_type": "markdown",
   "metadata": {},
   "source": [
    "### Attributes data frame preprocessing"
   ]
  },
  {
   "cell_type": "code",
   "execution_count": 1,
   "metadata": {},
   "outputs": [],
   "source": [
    "#Library section\n",
    "import pandas as pd\n",
    "import numpy as np\n",
    "import matplotlib as pyplot"
   ]
  },
  {
   "cell_type": "code",
   "execution_count": 2,
   "metadata": {},
   "outputs": [
    {
     "name": "stderr",
     "output_type": "stream",
     "text": [
      "D:\\Programs\\Anaconda\\lib\\site-packages\\IPython\\core\\interactiveshell.py:3057: DtypeWarning: Columns (2,20,23,67,68,69,70,71,72,73,74) have mixed types. Specify dtype option on import or set low_memory=False.\n",
      "  interactivity=interactivity, compiler=compiler, result=result)\n"
     ]
    }
   ],
   "source": [
    "unpack_dict_df = pd.read_csv('attributes_unpacked_business.csv')"
   ]
  },
  {
   "cell_type": "code",
   "execution_count": 3,
   "metadata": {},
   "outputs": [],
   "source": [
    "unpack_dict_df = unpack_dict_df.replace(['None','none'], None)"
   ]
  },
  {
   "cell_type": "code",
   "execution_count": 4,
   "metadata": {},
   "outputs": [
    {
     "name": "stdout",
     "output_type": "stream",
     "text": [
      "(60713, 82)\n"
     ]
    }
   ],
   "source": [
    "print (unpack_dict_df.shape)\n",
    "#print(unpack_dict_df.info())"
   ]
  },
  {
   "cell_type": "code",
   "execution_count": 5,
   "metadata": {},
   "outputs": [
    {
     "name": "stdout",
     "output_type": "stream",
     "text": [
      "NUll rate in %\n"
     ]
    },
    {
     "data": {
      "text/plain": [
       "business_id                     0.00\n",
       "RestaurantsPriceRange2          8.56\n",
       "RestaurantsTakeOut              9.37\n",
       "OutdoorSeating                 15.49\n",
       "RestaurantsGoodForGroups       15.93\n",
       "valet                          16.35\n",
       "lot                            16.36\n",
       "garage                         16.36\n",
       "validated                      16.36\n",
       "street                         16.36\n",
       "GoodForKids                    16.44\n",
       "RestaurantsReservations        16.87\n",
       "RestaurantsDelivery            17.23\n",
       "RestaurantsAttire              20.03\n",
       "HasTV                          26.02\n",
       "touristy                       26.13\n",
       "romantic                       26.13\n",
       "intimate                       26.13\n",
       "casual                         26.13\n",
       "classy                         26.13\n",
       "trendy                         26.13\n",
       "upscale                        26.41\n",
       "hipster                        27.07\n",
       "WiFi                           28.24\n",
       "BikeParking                    31.26\n",
       "NoiseLevel                     32.33\n",
       "divey                          38.13\n",
       "Caters                         39.95\n",
       "BusinessAcceptsCreditCards     40.05\n",
       "Alcohol                        40.56\n",
       "                               ...  \n",
       "wednesday                      95.56\n",
       "saturday                       95.56\n",
       "friday                         95.56\n",
       "sunday                         95.56\n",
       "monday                         95.56\n",
       "CoatCheck                      95.66\n",
       "Smoking                        95.94\n",
       "BYOBCorkage                    97.66\n",
       "ByAppointmentOnly              98.72\n",
       "Corkage                        98.91\n",
       "vegan                          99.92\n",
       "soy-free                       99.92\n",
       "gluten-free                    99.92\n",
       "vegetarian                     99.92\n",
       "kosher                         99.92\n",
       "halal                          99.92\n",
       "dairy-free                     99.92\n",
       "AgesAllowed                    99.95\n",
       "BYOB                           99.95\n",
       "AcceptsInsurance               99.97\n",
       "RestaurantsCounterService      99.98\n",
       "perms                          99.99\n",
       "extensions                     99.99\n",
       "coloring                       99.99\n",
       "Open24Hours                    99.99\n",
       "kids                           99.99\n",
       "curly                          99.99\n",
       "straightperms                 100.00\n",
       "asian                         100.00\n",
       "africanamerican               100.00\n",
       "Length: 82, dtype: float64"
      ]
     },
     "execution_count": 5,
     "metadata": {},
     "output_type": "execute_result"
    }
   ],
   "source": [
    "print('NUll rate in %')\n",
    "na_rate = round(unpack_dict_df.isnull().sum()/len(unpack_dict_df)*100, 2).sort_values(ascending = True)\n",
    "na_rate\n",
    "#na_rate[(na_rate<90) and (na_rate>)]\n"
   ]
  },
  {
   "cell_type": "code",
   "execution_count": 6,
   "metadata": {},
   "outputs": [
    {
     "data": {
      "text/plain": [
       "Index(['business_id', 'RestaurantsPriceRange2', 'RestaurantsTakeOut',\n",
       "       'OutdoorSeating', 'RestaurantsGoodForGroups', 'valet', 'lot', 'garage',\n",
       "       'validated', 'street', 'GoodForKids', 'RestaurantsReservations',\n",
       "       'RestaurantsDelivery'],\n",
       "      dtype='object')"
      ]
     },
     "execution_count": 6,
     "metadata": {},
     "output_type": "execute_result"
    }
   ],
   "source": [
    "rows_to_drop = na_rate[na_rate<20].index\n",
    "rows_to_drop"
   ]
  },
  {
   "cell_type": "code",
   "execution_count": 7,
   "metadata": {},
   "outputs": [
    {
     "data": {
      "text/plain": [
       "(39249, 82)"
      ]
     },
     "execution_count": 7,
     "metadata": {},
     "output_type": "execute_result"
    }
   ],
   "source": [
    "rows_droped_df = unpack_dict_df.dropna(subset =rows_to_drop)\n",
    "rows_droped_df.shape"
   ]
  },
  {
   "cell_type": "code",
   "execution_count": 8,
   "metadata": {},
   "outputs": [
    {
     "data": {
      "text/plain": [
       "(39249, 36)"
      ]
     },
     "execution_count": 8,
     "metadata": {},
     "output_type": "execute_result"
    }
   ],
   "source": [
    "clmn_rows_droped_df = rows_droped_df.loc[:,na_rate<60]\n",
    "clmn_rows_droped_df.shape"
   ]
  },
  {
   "cell_type": "code",
   "execution_count": 9,
   "metadata": {},
   "outputs": [],
   "source": [
    "df = clmn_rows_droped_df\n",
    "#df = clmn_rows_droped_df\n",
    "columns = df.columns\n",
    "uniq = [df[x].unique() for x in df]\n",
    "uniq_runiq_r = np.column_stack((columns, uniq))"
   ]
  },
  {
   "cell_type": "code",
   "execution_count": 10,
   "metadata": {},
   "outputs": [
    {
     "name": "stdout",
     "output_type": "stream",
     "text": [
      "1 Alcohol : ['full_bar' 'beer_and_wine' nan]\n",
      "2 BikeParking : [False True nan]\n",
      "3 BusinessAcceptsCreditCards : [nan True False]\n",
      "4 Caters : [True False nan]\n",
      "5 GoodForKids : [True False]\n",
      "6 HasTV : [False True nan]\n",
      "7 NoiseLevel : ['loud' 'average' nan 'quiet' 'very_loud']\n",
      "8 OutdoorSeating : [False True]\n",
      "9 RestaurantsAttire : ['casual' nan 'dressy' 'formal']\n",
      "10 RestaurantsDelivery : [False True]\n",
      "11 RestaurantsGoodForGroups : [True False]\n",
      "12 RestaurantsPriceRange2 : [2. 1. 3. 4.]\n",
      "13 RestaurantsReservations : [True False]\n",
      "14 RestaurantsTakeOut : [True False]\n",
      "15 WiFi : ['no' nan 'free' 'paid']\n",
      "16 casual : [True False nan]\n",
      "17 classy : [False True nan]\n",
      "18 divey : [False nan True]\n",
      "19 hipster : [False nan True]\n",
      "20 intimate : [False nan True]\n",
      "21 romantic : [False True nan]\n",
      "22 touristy : [False nan True]\n",
      "23 trendy : [False nan True]\n",
      "24 upscale : [False nan True]\n",
      "25 garage : [False True]\n",
      "26 lot : [True False]\n",
      "27 street : [False True]\n",
      "28 valet : [False True]\n",
      "29 validated : [False True]\n",
      "30 breakfast : [False nan True]\n",
      "31 brunch : [False nan True]\n",
      "32 dessert : [False nan True]\n",
      "33 dinner : [True nan False]\n",
      "34 latenight : [False nan True]\n",
      "35 lunch : [True nan False]\n"
     ]
    }
   ],
   "source": [
    "n=0\n",
    "for i in uniq_runiq_r[1:]:\n",
    "    n+=1\n",
    "    print(n,i[0],\":\",i[1])"
   ]
  },
  {
   "cell_type": "code",
   "execution_count": 11,
   "metadata": {},
   "outputs": [],
   "source": [
    "#clmn_rows_droped_df[clmn_rows_droped_df== True] #= 1\n",
    "#clmn_rows_droped_df[clmn_rows_droped_df==False] = 0\n",
    "clmn_rows_droped_df = clmn_rows_droped_df.replace(True, int(1)) \n",
    "clmn_rows_droped_df = clmn_rows_droped_df.replace(False, int(0)) "
   ]
  },
  {
   "cell_type": "code",
   "execution_count": 12,
   "metadata": {},
   "outputs": [
    {
     "data": {
      "text/html": [
       "<div>\n",
       "<style scoped>\n",
       "    .dataframe tbody tr th:only-of-type {\n",
       "        vertical-align: middle;\n",
       "    }\n",
       "\n",
       "    .dataframe tbody tr th {\n",
       "        vertical-align: top;\n",
       "    }\n",
       "\n",
       "    .dataframe thead th {\n",
       "        text-align: right;\n",
       "    }\n",
       "</style>\n",
       "<table border=\"1\" class=\"dataframe\">\n",
       "  <thead>\n",
       "    <tr style=\"text-align: right;\">\n",
       "      <th></th>\n",
       "      <th>business_id</th>\n",
       "      <th>Alcohol</th>\n",
       "      <th>BikeParking</th>\n",
       "      <th>BusinessAcceptsCreditCards</th>\n",
       "      <th>Caters</th>\n",
       "      <th>GoodForKids</th>\n",
       "      <th>HasTV</th>\n",
       "      <th>NoiseLevel</th>\n",
       "      <th>OutdoorSeating</th>\n",
       "      <th>RestaurantsAttire</th>\n",
       "      <th>...</th>\n",
       "      <th>lot</th>\n",
       "      <th>street</th>\n",
       "      <th>valet</th>\n",
       "      <th>validated</th>\n",
       "      <th>breakfast</th>\n",
       "      <th>brunch</th>\n",
       "      <th>dessert</th>\n",
       "      <th>dinner</th>\n",
       "      <th>latenight</th>\n",
       "      <th>lunch</th>\n",
       "    </tr>\n",
       "  </thead>\n",
       "  <tbody>\n",
       "    <tr>\n",
       "      <th>0</th>\n",
       "      <td>QXAEGFB4oINsVuTFxEYKFQ</td>\n",
       "      <td>full_bar</td>\n",
       "      <td>0.0</td>\n",
       "      <td>NaN</td>\n",
       "      <td>1.0</td>\n",
       "      <td>1</td>\n",
       "      <td>0.0</td>\n",
       "      <td>loud</td>\n",
       "      <td>0</td>\n",
       "      <td>casual</td>\n",
       "      <td>...</td>\n",
       "      <td>1</td>\n",
       "      <td>0</td>\n",
       "      <td>0</td>\n",
       "      <td>0</td>\n",
       "      <td>0.0</td>\n",
       "      <td>0.0</td>\n",
       "      <td>0.0</td>\n",
       "      <td>1.0</td>\n",
       "      <td>0.0</td>\n",
       "      <td>1.0</td>\n",
       "    </tr>\n",
       "    <tr>\n",
       "      <th>1</th>\n",
       "      <td>gnKjwL_1w79qoiV3IC_xQQ</td>\n",
       "      <td>beer_and_wine</td>\n",
       "      <td>1.0</td>\n",
       "      <td>1.0</td>\n",
       "      <td>0.0</td>\n",
       "      <td>1</td>\n",
       "      <td>1.0</td>\n",
       "      <td>average</td>\n",
       "      <td>0</td>\n",
       "      <td>casual</td>\n",
       "      <td>...</td>\n",
       "      <td>1</td>\n",
       "      <td>0</td>\n",
       "      <td>0</td>\n",
       "      <td>0</td>\n",
       "      <td>0.0</td>\n",
       "      <td>0.0</td>\n",
       "      <td>0.0</td>\n",
       "      <td>1.0</td>\n",
       "      <td>0.0</td>\n",
       "      <td>1.0</td>\n",
       "    </tr>\n",
       "  </tbody>\n",
       "</table>\n",
       "<p>2 rows × 36 columns</p>\n",
       "</div>"
      ],
      "text/plain": [
       "              business_id        Alcohol  BikeParking  \\\n",
       "0  QXAEGFB4oINsVuTFxEYKFQ       full_bar          0.0   \n",
       "1  gnKjwL_1w79qoiV3IC_xQQ  beer_and_wine          1.0   \n",
       "\n",
       "   BusinessAcceptsCreditCards  Caters  GoodForKids  HasTV NoiseLevel  \\\n",
       "0                         NaN     1.0            1    0.0       loud   \n",
       "1                         1.0     0.0            1    1.0    average   \n",
       "\n",
       "   OutdoorSeating RestaurantsAttire  ...  lot  street  valet  validated  \\\n",
       "0               0            casual  ...    1       0      0          0   \n",
       "1               0            casual  ...    1       0      0          0   \n",
       "\n",
       "   breakfast brunch  dessert  dinner  latenight  lunch  \n",
       "0        0.0    0.0      0.0     1.0        0.0    1.0  \n",
       "1        0.0    0.0      0.0     1.0        0.0    1.0  \n",
       "\n",
       "[2 rows x 36 columns]"
      ]
     },
     "execution_count": 12,
     "metadata": {},
     "output_type": "execute_result"
    }
   ],
   "source": [
    "clmn_rows_droped_df.head(2)"
   ]
  },
  {
   "cell_type": "code",
   "execution_count": 13,
   "metadata": {},
   "outputs": [
    {
     "data": {
      "text/plain": [
       "Index(['business_id', 'Alcohol', 'BikeParking', 'BusinessAcceptsCreditCards',\n",
       "       'Caters', 'GoodForKids', 'HasTV', 'NoiseLevel', 'OutdoorSeating',\n",
       "       'RestaurantsAttire', 'RestaurantsDelivery', 'RestaurantsGoodForGroups',\n",
       "       'RestaurantsPriceRange2', 'RestaurantsReservations',\n",
       "       'RestaurantsTakeOut', 'WiFi', 'casual', 'classy', 'divey', 'hipster',\n",
       "       'intimate', 'romantic', 'touristy', 'trendy', 'upscale', 'garage',\n",
       "       'lot', 'street', 'valet', 'validated', 'breakfast', 'brunch', 'dessert',\n",
       "       'dinner', 'latenight', 'lunch'],\n",
       "      dtype='object')"
      ]
     },
     "execution_count": 13,
     "metadata": {},
     "output_type": "execute_result"
    }
   ],
   "source": [
    "clmn_rows_droped_df.columns"
   ]
  },
  {
   "cell_type": "code",
   "execution_count": 17,
   "metadata": {},
   "outputs": [
    {
     "data": {
      "text/plain": [
       "lunch                         35.27\n",
       "dinner                        35.27\n",
       "dessert                       35.27\n",
       "brunch                        35.27\n",
       "breakfast                     35.27\n",
       "latenight                     35.27\n",
       "BusinessAcceptsCreditCards    33.01\n",
       "Alcohol                       22.22\n",
       "Caters                        21.43\n",
       "divey                         17.17\n",
       "BikeParking                   16.18\n",
       "WiFi                          11.97\n",
       "NoiseLevel                     9.29\n",
       "hipster                        5.72\n",
       "upscale                        5.23\n",
       "casual                         4.95\n",
       "classy                         4.95\n",
       "intimate                       4.95\n",
       "romantic                       4.95\n",
       "touristy                       4.95\n",
       "trendy                         4.95\n",
       "HasTV                          4.49\n",
       "RestaurantsAttire              0.99\n",
       "dtype: float64"
      ]
     },
     "execution_count": 17,
     "metadata": {},
     "output_type": "execute_result"
    }
   ],
   "source": [
    "new_na_rate= round(clmn_rows_droped_df.isna().sum()/len(clmn_rows_droped_df)*100, 2).sort_values(ascending = False)\n",
    "new_na_rate[new_na_rate>0]"
   ]
  },
  {
   "cell_type": "markdown",
   "metadata": {},
   "source": [
    "### Filling NA "
   ]
  },
  {
   "cell_type": "markdown",
   "metadata": {},
   "source": [
    "Now is the time to fill our missing values. There are several methods to execute it and the primary ones are:\n",
    "- Filling missing values with a test statistic\n",
    "- Predictive model for handling missing data (ML)\n",
    "\n",
    "These methods are more explained by link: https://towardsdatascience.com/the-tale-of-missing-values-in-python-c96beb0e8a9d\n",
    "\n",
    "In this research we will go with the first one.\n",
    "\n",
    "Let's devide then our columns for different fillna methods.\n",
    "\n"
   ]
  },
  {
   "cell_type": "code",
   "execution_count": 23,
   "metadata": {},
   "outputs": [
    {
     "name": "stdout",
     "output_type": "stream",
     "text": [
      "missing_less_10 - (39249, 11)\n",
      "missing_more_10 - (39249, 12)\n"
     ]
    }
   ],
   "source": [
    "missing_less_10 = new_na_rate[(new_na_rate>0) & (new_na_rate<=10)]\n",
    "#missing_less_10 = clmn_rows_droped_df[missing_less_10.index]\n",
    "print('missing_less_10','-',clmn_rows_droped_df[missing_less_10.index].shape)\n",
    "\n",
    "missing_more_10 = new_na_rate[new_na_rate>10]\n",
    "#missing_more_10 = clmn_rows_droped_df[missing_more_10.index]\n",
    "print('missing_more_10','-',clmn_rows_droped_df[missing_more_10.index].shape)"
   ]
  },
  {
   "cell_type": "code",
   "execution_count": null,
   "metadata": {},
   "outputs": [],
   "source": [
    "#from sklearn.preprocessing import Imputer\n",
    "#imp = Imputer(missing_values='NaN', strategy='most_frequent', axis=0)\n",
    "#imp.fit(missing_less_10)\n",
    "#train= imp.transform(missing_less_10)\n"
   ]
  },
  {
   "cell_type": "code",
   "execution_count": 25,
   "metadata": {},
   "outputs": [],
   "source": [
    "clmn_rows_droped_df[missing_less_10.index] = clmn_rows_droped_df[missing_less_10.index].fillna( method='backfill')"
   ]
  },
  {
   "cell_type": "code",
   "execution_count": 38,
   "metadata": {},
   "outputs": [
    {
     "data": {
      "text/plain": [
       "lunch                         35.27\n",
       "dinner                        35.27\n",
       "dessert                       35.27\n",
       "brunch                        35.27\n",
       "breakfast                     35.27\n",
       "latenight                     35.27\n",
       "BusinessAcceptsCreditCards    33.01\n",
       "Alcohol                       22.22\n",
       "Caters                        21.43\n",
       "divey                         17.17\n",
       "BikeParking                   16.18\n",
       "WiFi                          11.97\n",
       "NoiseLevel                     9.29\n",
       "hipster                        5.72\n",
       "upscale                        5.23\n",
       "casual                         4.95\n",
       "classy                         4.95\n",
       "intimate                       4.95\n",
       "romantic                       4.95\n",
       "touristy                       4.95\n",
       "trendy                         4.95\n",
       "HasTV                          4.49\n",
       "RestaurantsAttire              0.99\n",
       "dtype: float64"
      ]
     },
     "execution_count": 38,
     "metadata": {},
     "output_type": "execute_result"
    }
   ],
   "source": [
    "(clmn_rows_droped_df.isnull().sum()/len(clmn_rows_droped_df)*100).sort_values(ascending = False)"
   ]
  },
  {
   "cell_type": "code",
   "execution_count": 40,
   "metadata": {},
   "outputs": [],
   "source": [
    "from sklearn.impute import SimpleImputer\n",
    "imp = SimpleImputer(strategy=\"most_frequent\")\n",
    "cleaned_at_df = imp.fit_transform(clmn_rows_droped_df)\n",
    "cleaned_at_df = pd.DataFrame(cleaned_at_df, columns =clmn_rows_droped_df.columns )"
   ]
  },
  {
   "cell_type": "code",
   "execution_count": 42,
   "metadata": {},
   "outputs": [
    {
     "data": {
      "text/plain": [
       "Series([], dtype: float64)"
      ]
     },
     "execution_count": 42,
     "metadata": {},
     "output_type": "execute_result"
    }
   ],
   "source": [
    "new_na_rate= round(cleaned_at_df.isna().sum()/len(cleaned_at_df)*100, 2).sort_values(ascending = False)\n",
    "new_na_rate[new_na_rate>0]"
   ]
  },
  {
   "cell_type": "markdown",
   "metadata": {},
   "source": [
    "Lovely empty Series. It measn that our data does not have any missing values. Now we will store our file and use it further for our descriptive analysis, but as traditionally, save first."
   ]
  },
  {
   "cell_type": "code",
   "execution_count": 43,
   "metadata": {},
   "outputs": [],
   "source": [
    "cleaned_at_df.to_csv('attributes_unpacked_business.csv', index = False)"
   ]
  },
  {
   "cell_type": "markdown",
   "metadata": {},
   "source": [
    "---------------------------------------------------------------------------------------------------------------------------------------------------------------"
   ]
  }
 ],
 "metadata": {
  "kernelspec": {
   "display_name": "Python 3",
   "language": "python",
   "name": "python3"
  },
  "language_info": {
   "codemirror_mode": {
    "name": "ipython",
    "version": 3
   },
   "file_extension": ".py",
   "mimetype": "text/x-python",
   "name": "python",
   "nbconvert_exporter": "python",
   "pygments_lexer": "ipython3",
   "version": "3.7.3"
  }
 },
 "nbformat": 4,
 "nbformat_minor": 4
}

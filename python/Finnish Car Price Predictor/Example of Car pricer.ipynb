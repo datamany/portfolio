{
 "cells": [
  {
   "cell_type": "code",
   "execution_count": 1,
   "metadata": {},
   "outputs": [],
   "source": [
    "import FinCarPricer as fcp"
   ]
  },
  {
   "cell_type": "code",
   "execution_count": 2,
   "metadata": {},
   "outputs": [
    {
     "name": "stdout",
     "output_type": "stream",
     "text": [
      "Cars' data loaded: 85\n",
      "Pages loaded: 3\n",
      "Pages left: 0\n",
      "Data loading has completed\n",
      "Data Frame created\n",
      "Estimated price for your car: 15000 €\n",
      "\n",
      "Your request: \n",
      " Make: Audi \n",
      " Model: A5 \n",
      " Year: 2007 \n",
      " Mileage: 185000 km \n",
      " Engine size: 3.0 \n",
      " Gear Box: Automatti \n",
      " Fuel Type: Diesel \n",
      "\n",
      "\n",
      "Simillar cars to your request\n",
      "\n",
      "make    model      milage    year  car_type       price    eng_size  gear_box    fuel    loc_town    link\n",
      "------  -------  --------  ------  -----------  -------  ----------  ----------  ------  ----------  ------------------------------------------\n",
      "Audi    A5         150700    2007  Henkilöauto    15550         2.7  Automaatti  Diesel  Vantaa      https://www.nettiauto.com/audi/a5/11444274\n",
      "Audi    A5         198000    2007  Henkilöauto    15500         3    Manuaali    Diesel  Kempele     https://www.nettiauto.com/audi/a5/11489448\n",
      "Audi    A5         200300    2007  Henkilöauto    13990         3    Manuaali    Diesel  Hankasalmi  https://www.nettiauto.com/audi/a5/11501582\n",
      "Audi    A5         178000    2007  Henkilöauto    16390         3    Manuaali    Diesel  Vantaa      https://www.nettiauto.com/audi/a5/11501969\n",
      "Audi    A5         190000    2008  Henkilöauto    15990         3    Automaatti  Diesel  Tampere     https://www.nettiauto.com/audi/a5/7147151\n",
      "Would you like to make another request?\n"
     ]
    },
    {
     "name": "stdin",
     "output_type": "stream",
     "text": [
      "Plese write 1 or 2 \n",
      "1.No, exit the program \n",
      "2.Yes,please 1\n"
     ]
    }
   ],
   "source": [
    "fcp.car_pricer()"
   ]
  },
  {
   "cell_type": "code",
   "execution_count": null,
   "metadata": {},
   "outputs": [],
   "source": []
  }
 ],
 "metadata": {
  "kernelspec": {
   "display_name": "Python 3",
   "language": "python",
   "name": "python3"
  },
  "language_info": {
   "codemirror_mode": {
    "name": "ipython",
    "version": 3
   },
   "file_extension": ".py",
   "mimetype": "text/x-python",
   "name": "python",
   "nbconvert_exporter": "python",
   "pygments_lexer": "ipython3",
   "version": "3.7.3"
  }
 },
 "nbformat": 4,
 "nbformat_minor": 4
}

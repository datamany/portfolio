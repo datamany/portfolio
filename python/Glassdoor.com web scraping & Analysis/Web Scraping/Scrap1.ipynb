{
 "cells": [
  {
   "cell_type": "code",
   "execution_count": 1,
   "metadata": {},
   "outputs": [],
   "source": [
    "import time\n",
    "from random import randint\n",
    "#import scrap_it_selected as s\n",
    "from time import sleep\n",
    "import WS_5th_list as ws\n",
    "import get_jason_dicti as jas\n",
    "import schedule"
   ]
  },
  {
   "cell_type": "code",
   "execution_count": null,
   "metadata": {},
   "outputs": [],
   "source": [
    "def scrap():\n",
    "    sleep(randint(60,190))\n",
    "    start = time.time()\n",
    "    for i in list(range(0,9)):\n",
    "        ws.easy_scrap_lists(i,0)\n",
    "        sleep(randint(70,160))\n",
    "    end = time.time()\n",
    "    hours, rem = divmod(end-start, 3600)\n",
    "    minutes, seconds = divmod(rem, 60)\n",
    "    print(\"{:0>2}:{:0>2}:{:05.2f}\".format(int(hours),int(minutes),seconds))\n",
    "\n",
    "    #part 2\n",
    "    sleep(randint(60,190))\n",
    "    start = time.time()\n",
    "    for i in list(range(0,5)):\n",
    "        jas.chose_proxy(0)\n",
    "        jas.easy_scrap_dicti(i,None,1)\n",
    "        sleep(randint(70,160))\n",
    "    end = time.time()\n",
    "    hours, rem = divmod(end-start, 3600)\n",
    "    minutes, seconds = divmod(rem, 60)\n",
    "    print(\"{:0>2}:{:0>2}:{:05.2f}\".format(int(hours),int(minutes),seconds))"
   ]
  },
  {
   "cell_type": "code",
   "execution_count": null,
   "metadata": {},
   "outputs": [],
   "source": [
    "schedule.every().day.at(\"09:05\").do(scrap) \n",
    "while True: \n",
    "  \n",
    "    # Checks whether a scheduled task  \n",
    "    # is pending to run or not \n",
    "    schedule.run_pending() \n",
    "    time.sleep(1)"
   ]
  },
  {
   "cell_type": "code",
   "execution_count": 2,
   "metadata": {},
   "outputs": [
    {
     "name": "stdout",
     "output_type": "stream",
     "text": [
      "Scraping country:Hartford\n",
      "Links scraped:70/89\n",
      "Overall scraped links: 1172/1191\n",
      "Tables saved\n",
      "01:29:14.63\n"
     ]
    }
   ],
   "source": [
    "#sleep(randint(60,190))\n",
    "start = time.time()\n",
    "for i in list(range(0,5)):\n",
    "    jas.chose_proxy(0)\n",
    "    jas.easy_scrap_dicti(i,None,1)\n",
    "    sleep(randint(70,160))\n",
    "end = time.time()\n",
    "hours, rem = divmod(end-start, 3600)\n",
    "minutes, seconds = divmod(rem, 60)\n",
    "print(\"{:0>2}:{:0>2}:{:05.2f}\".format(int(hours),int(minutes),seconds))"
   ]
  },
  {
   "cell_type": "code",
   "execution_count": 3,
   "metadata": {},
   "outputs": [
    {
     "name": "stdout",
     "output_type": "stream",
     "text": [
      "Scraping country:Charlotte\n",
      "Links scraped:853/1063\n",
      "Overall scraped links: 4194/4404\n",
      "Tables saved\n",
      "01:21:12.68\n"
     ]
    }
   ],
   "source": [
    "#sleep(randint(360,590))\n",
    "start = time.time()\n",
    "for i in list(range(24,25)):\n",
    "    jas.chose_proxy(0)\n",
    "    jas.easy_scrap_dicti(i,None,1)\n",
    "    sleep(randint(70,160))\n",
    "end = time.time()\n",
    "hours, rem = divmod(end-start, 3600)\n",
    "minutes, seconds = divmod(rem, 60)\n",
    "print(\"{:0>2}:{:0>2}:{:05.2f}\".format(int(hours),int(minutes),seconds))"
   ]
  },
  {
   "cell_type": "code",
   "execution_count": null,
   "metadata": {},
   "outputs": [],
   "source": []
  }
 ],
 "metadata": {
  "kernelspec": {
   "display_name": "Python 3",
   "language": "python",
   "name": "python3"
  },
  "language_info": {
   "codemirror_mode": {
    "name": "ipython",
    "version": 3
   },
   "file_extension": ".py",
   "mimetype": "text/x-python",
   "name": "python",
   "nbconvert_exporter": "python",
   "pygments_lexer": "ipython3",
   "version": "3.7.4"
  }
 },
 "nbformat": 4,
 "nbformat_minor": 4
}

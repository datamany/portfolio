{
 "cells": [
  {
   "cell_type": "code",
   "execution_count": 1,
   "metadata": {},
   "outputs": [],
   "source": [
    "import pandas as pd\n",
    "import numpy as np"
   ]
  },
  {
   "cell_type": "markdown",
   "metadata": {},
   "source": [
    "# Fact table"
   ]
  },
  {
   "cell_type": "code",
   "execution_count": 5,
   "metadata": {},
   "outputs": [],
   "source": [
    "df_major = pd.read_csv('all_extracted_df_filtered_with_cats.csv')"
   ]
  },
  {
   "cell_type": "code",
   "execution_count": 6,
   "metadata": {},
   "outputs": [
    {
     "name": "stdout",
     "output_type": "stream",
     "text": [
      "['job_id', 'jobTitle', 'job_title_cat1', 'Category', 'GDJobTitle', 'Location', 'CompanyName', 'HqLocation', 'CompanySize', 'Industry', 'Sector', 'Star_rating', 'description']\n"
     ]
    }
   ],
   "source": [
    "print(df_major.columns.tolist())"
   ]
  },
  {
   "cell_type": "code",
   "execution_count": 7,
   "metadata": {},
   "outputs": [],
   "source": [
    "df_major = df_major[[\n",
    " 'job_id',\n",
    " 'jobTitle',\n",
    " 'Category',\n",
    " 'Location',\n",
    " 'CompanyName',\n",
    " 'CompanySize',\n",
    " 'Industry',\n",
    " 'Sector',\n",
    " 'Star_rating',\n",
    " 'description'\n",
    "]]"
   ]
  },
  {
   "cell_type": "code",
   "execution_count": 8,
   "metadata": {},
   "outputs": [
    {
     "name": "stdout",
     "output_type": "stream",
     "text": [
      "<class 'pandas.core.frame.DataFrame'>\n",
      "RangeIndex: 40326 entries, 0 to 40325\n",
      "Data columns (total 10 columns):\n",
      "job_id         40326 non-null int64\n",
      "jobTitle       40326 non-null object\n",
      "Category       40326 non-null object\n",
      "Location       40326 non-null object\n",
      "CompanyName    40321 non-null object\n",
      "CompanySize    35716 non-null object\n",
      "Industry       40324 non-null object\n",
      "Sector         35716 non-null object\n",
      "Star_rating    35716 non-null float64\n",
      "description    40326 non-null object\n",
      "dtypes: float64(1), int64(1), object(8)\n",
      "memory usage: 3.1+ MB\n"
     ]
    }
   ],
   "source": [
    "df_major.info()"
   ]
  },
  {
   "cell_type": "code",
   "execution_count": 9,
   "metadata": {},
   "outputs": [
    {
     "data": {
      "text/plain": [
       "1-10000       15496\n",
       "1001-5000      5780\n",
       "51-200         4698\n",
       "1-50           4286\n",
       "201-500        4058\n",
       "501-1000       2523\n",
       "5001-10000     2220\n",
       "0-1            1265\n",
       "Name: CompanySize, dtype: int64"
      ]
     },
     "execution_count": 9,
     "metadata": {},
     "output_type": "execute_result"
    }
   ],
   "source": [
    "# Size Cleaning\n",
    "df_major.CompanySize = ['1-10000' if i =='10000--1' or i != i else '0-1' if i == '-1-0' else i for i in df_major.CompanySize]\n",
    "df_major.CompanySize.value_counts()     "
   ]
  },
  {
   "cell_type": "code",
   "execution_count": 10,
   "metadata": {},
   "outputs": [
    {
     "data": {
      "text/html": [
       "<div>\n",
       "<style scoped>\n",
       "    .dataframe tbody tr th:only-of-type {\n",
       "        vertical-align: middle;\n",
       "    }\n",
       "\n",
       "    .dataframe tbody tr th {\n",
       "        vertical-align: top;\n",
       "    }\n",
       "\n",
       "    .dataframe thead th {\n",
       "        text-align: right;\n",
       "    }\n",
       "</style>\n",
       "<table border=\"1\" class=\"dataframe\">\n",
       "  <thead>\n",
       "    <tr style=\"text-align: right;\">\n",
       "      <th></th>\n",
       "      <th>job_id</th>\n",
       "      <th>jobTitle</th>\n",
       "      <th>Category</th>\n",
       "      <th>Location</th>\n",
       "      <th>CompanyName</th>\n",
       "      <th>CompanySize</th>\n",
       "      <th>Industry</th>\n",
       "      <th>Sector</th>\n",
       "      <th>Star_rating</th>\n",
       "      <th>description</th>\n",
       "    </tr>\n",
       "  </thead>\n",
       "  <tbody>\n",
       "    <tr>\n",
       "      <th>7872</th>\n",
       "      <td>3390001969</td>\n",
       "      <td>Software Development Manager, AWS Security</td>\n",
       "      <td>Developer</td>\n",
       "      <td>Baltimore, MD</td>\n",
       "      <td>Amazon Web Services, Inc.</td>\n",
       "      <td>51-200</td>\n",
       "      <td>NaN</td>\n",
       "      <td>Health Care</td>\n",
       "      <td>4.1</td>\n",
       "      <td>Bachelor's degree in Computer Science or relat...</td>\n",
       "    </tr>\n",
       "    <tr>\n",
       "      <th>34302</th>\n",
       "      <td>3389453534</td>\n",
       "      <td>Splunk Developer</td>\n",
       "      <td>Developer</td>\n",
       "      <td>Seattle, WA</td>\n",
       "      <td>Recode Solutions</td>\n",
       "      <td>1-50</td>\n",
       "      <td>NaN</td>\n",
       "      <td>Information Technology</td>\n",
       "      <td>5.0</td>\n",
       "      <td>Understand requirements, participating in crea...</td>\n",
       "    </tr>\n",
       "  </tbody>\n",
       "</table>\n",
       "</div>"
      ],
      "text/plain": [
       "           job_id                                    jobTitle   Category  \\\n",
       "7872   3390001969  Software Development Manager, AWS Security  Developer   \n",
       "34302  3389453534                            Splunk Developer  Developer   \n",
       "\n",
       "            Location                CompanyName CompanySize Industry  \\\n",
       "7872   Baltimore, MD  Amazon Web Services, Inc.      51-200      NaN   \n",
       "34302    Seattle, WA           Recode Solutions        1-50      NaN   \n",
       "\n",
       "                       Sector  Star_rating  \\\n",
       "7872              Health Care          4.1   \n",
       "34302  Information Technology          5.0   \n",
       "\n",
       "                                             description  \n",
       "7872   Bachelor's degree in Computer Science or relat...  \n",
       "34302  Understand requirements, participating in crea...  "
      ]
     },
     "execution_count": 10,
     "metadata": {},
     "output_type": "execute_result"
    }
   ],
   "source": [
    "# Industry cleaning\n",
    "df_major[df_major.Industry.isnull()]"
   ]
  },
  {
   "cell_type": "code",
   "execution_count": 11,
   "metadata": {},
   "outputs": [
    {
     "data": {
      "text/plain": [
       "34850    Health Care Services & Hospitals\n",
       "35238    Health Care Services & Hospitals\n",
       "Name: Industry, dtype: object"
      ]
     },
     "execution_count": 11,
     "metadata": {},
     "output_type": "execute_result"
    }
   ],
   "source": [
    "df_major[(df_major.Sector =='Health Care')&(df_major.CompanyName == 'Amazon Web Services, Inc.')]['Industry'].tail(2)"
   ]
  },
  {
   "cell_type": "code",
   "execution_count": 12,
   "metadata": {},
   "outputs": [
    {
     "data": {
      "text/plain": [
       "7548                      IT Services\n",
       "33713    Computer Hardware & Software\n",
       "33730                     IT Services\n",
       "Name: Industry, dtype: object"
      ]
     },
     "execution_count": 12,
     "metadata": {},
     "output_type": "execute_result"
    }
   ],
   "source": [
    "df_major[(df_major.Sector =='Information Technology')&(df_major.CompanyName == 'Amazon Web Services, Inc.')]['Industry'].head(3)"
   ]
  },
  {
   "cell_type": "code",
   "execution_count": 13,
   "metadata": {},
   "outputs": [
    {
     "name": "stderr",
     "output_type": "stream",
     "text": [
      "D:\\Programs\\Anaconda\\lib\\site-packages\\pandas\\core\\indexing.py:190: SettingWithCopyWarning: \n",
      "A value is trying to be set on a copy of a slice from a DataFrame\n",
      "\n",
      "See the caveats in the documentation: http://pandas.pydata.org/pandas-docs/stable/indexing.html#indexing-view-versus-copy\n",
      "  self._setitem_with_indexer(indexer, value)\n"
     ]
    }
   ],
   "source": [
    "df_major['Industry'].loc[7872] = 'Health Care Services & Hospitals'\n",
    "df_major['Industry'].loc[34302] = 'IT Services'"
   ]
  },
  {
   "cell_type": "code",
   "execution_count": 14,
   "metadata": {},
   "outputs": [
    {
     "data": {
      "text/html": [
       "<div>\n",
       "<style scoped>\n",
       "    .dataframe tbody tr th:only-of-type {\n",
       "        vertical-align: middle;\n",
       "    }\n",
       "\n",
       "    .dataframe tbody tr th {\n",
       "        vertical-align: top;\n",
       "    }\n",
       "\n",
       "    .dataframe thead th {\n",
       "        text-align: right;\n",
       "    }\n",
       "</style>\n",
       "<table border=\"1\" class=\"dataframe\">\n",
       "  <thead>\n",
       "    <tr style=\"text-align: right;\">\n",
       "      <th></th>\n",
       "      <th>job_id</th>\n",
       "      <th>jobTitle</th>\n",
       "      <th>Category</th>\n",
       "      <th>Location</th>\n",
       "      <th>CompanyName</th>\n",
       "      <th>CompanySize</th>\n",
       "      <th>Industry</th>\n",
       "      <th>Sector</th>\n",
       "      <th>Star_rating</th>\n",
       "      <th>description</th>\n",
       "    </tr>\n",
       "  </thead>\n",
       "  <tbody>\n",
       "  </tbody>\n",
       "</table>\n",
       "</div>"
      ],
      "text/plain": [
       "Empty DataFrame\n",
       "Columns: [job_id, jobTitle, Category, Location, CompanyName, CompanySize, Industry, Sector, Star_rating, description]\n",
       "Index: []"
      ]
     },
     "execution_count": 14,
     "metadata": {},
     "output_type": "execute_result"
    }
   ],
   "source": [
    "df_major[df_major.Industry.isnull()]"
   ]
  },
  {
   "cell_type": "code",
   "execution_count": 15,
   "metadata": {},
   "outputs": [],
   "source": [
    "# Sector cleaning"
   ]
  },
  {
   "cell_type": "code",
   "execution_count": 16,
   "metadata": {},
   "outputs": [
    {
     "data": {
      "text/plain": [
       "25"
      ]
     },
     "execution_count": 16,
     "metadata": {},
     "output_type": "execute_result"
    }
   ],
   "source": [
    "len(df_major.Sector.value_counts())"
   ]
  },
  {
   "cell_type": "code",
   "execution_count": 17,
   "metadata": {},
   "outputs": [],
   "source": [
    "ml_sec_df = df_major[~df_major.Sector.isnull()][['Industry', 'Sector']]"
   ]
  },
  {
   "cell_type": "code",
   "execution_count": 18,
   "metadata": {},
   "outputs": [],
   "source": [
    "# Clustering ML"
   ]
  },
  {
   "cell_type": "code",
   "execution_count": 19,
   "metadata": {},
   "outputs": [],
   "source": [
    "df_major_ml = df_major\n",
    "industry_ls = df_major.Industry.value_counts().index.tolist()"
   ]
  },
  {
   "cell_type": "code",
   "execution_count": 20,
   "metadata": {},
   "outputs": [],
   "source": [
    "from nltk import ngrams\n",
    "from nltk.tokenize import word_tokenize \n",
    "from nltk.corpus import stopwords\n",
    "from nltk.tokenize import RegexpTokenizer\n",
    "\n",
    "def text_preprocessing(ls):\n",
    "    #ls_for_dn = google_soft.Google_name.value_counts().index.to_list()\n",
    "\n",
    "    # remove punctuation\n",
    "    punctuation_ls = '!\"#$%&+\\'()*,-./:;<=>?@[\\\\]^_`{|}~'\n",
    "    ls_for_dn_transf = [st.translate(str.maketrans('', '', punctuation_ls)) for st in ls  if type(st) is str]\n",
    "    print('Done1')\n",
    "    # create tokens\n",
    "    ls_for_dn_transf = [word_tokenize(st)for st in ls_for_dn_transf ]\n",
    "    print('Done2')\n",
    "    #remove stop words\n",
    "    stop_words = stopwords.words('english')\n",
    "    ls_for_dn_transf = [[st for st in ls if st.lower() not in stop_words] for ls in ls_for_dn_transf  ]\n",
    "    print('Done3')\n",
    "    # Back to String\n",
    "    ls_for_dn_transf = [\" \".join(ls) for ls in ls_for_dn_transf]\n",
    "    print('Done4')\n",
    "    return ls_for_dn_transf"
   ]
  },
  {
   "cell_type": "code",
   "execution_count": 21,
   "metadata": {},
   "outputs": [
    {
     "name": "stdout",
     "output_type": "stream",
     "text": [
      "Done1\n",
      "Done2\n",
      "Done3\n",
      "Done4\n"
     ]
    }
   ],
   "source": [
    "industry_ls_clean = text_preprocessing (industry_ls)\n",
    "df_major_ml = pd.merge (df_major_ml,pd.DataFrame({'Industry': industry_ls, 'Industry_clean': industry_ls_clean}), how= 'left', on ='Industry' )"
   ]
  },
  {
   "cell_type": "code",
   "execution_count": 22,
   "metadata": {},
   "outputs": [],
   "source": [
    "#df_major_ml.head()"
   ]
  },
  {
   "cell_type": "code",
   "execution_count": 23,
   "metadata": {},
   "outputs": [],
   "source": [
    "#Vectorization\n",
    "#1st step\n",
    "from sklearn.feature_extraction.text import TfidfVectorizer\n",
    "v = TfidfVectorizer(max_features=3000)\n",
    "x = df_major_ml[\"Industry_clean\"]\n",
    "v.fit(x)\n",
    "x_tfidf = v.transform(x)"
   ]
  },
  {
   "cell_type": "code",
   "execution_count": 24,
   "metadata": {},
   "outputs": [],
   "source": [
    "#Model Testing\n",
    "df_major_ml_train = df_major_ml[~df_major_ml.Sector.isnull()]\n",
    "from sklearn.model_selection import train_test_split\n",
    "X_train, X_test, y_train, y_test = train_test_split(df_major_ml_train.Industry, df_major_ml_train.Sector, test_size=0.2)\n",
    "\n",
    "# Vectorization\n",
    "x_tfidf_train = v.transform(X_train)\n",
    "x_tfidf_test = v.transform(X_test)"
   ]
  },
  {
   "cell_type": "code",
   "execution_count": 25,
   "metadata": {},
   "outputs": [
    {
     "name": "stdout",
     "output_type": "stream",
     "text": [
      "Accuracy Score (SVM) ->  99.97200447928331\n"
     ]
    }
   ],
   "source": [
    "## Training the model\n",
    "from sklearn import svm\n",
    "# Classifier - Algorithm - SVM\n",
    "s = svm.LinearSVC(C=1.0)\n",
    "\n",
    "# fit the training dataset on the classifier\n",
    "s.fit(x_tfidf_train, y_train)# predict the labels on validation dataset\n",
    "s_pred = s.predict(x_tfidf_test)\n",
    "\n",
    "from sklearn.metrics import accuracy_score\n",
    "# Use accuracy_score function to get the accuracy\n",
    "print(\"Accuracy Score (SVM) -> \",accuracy_score(s_pred, y_test)*100)"
   ]
  },
  {
   "cell_type": "code",
   "execution_count": 26,
   "metadata": {},
   "outputs": [],
   "source": [
    "# Model Training and applying to Null Sector values\n",
    "df_major_ml_train = df_major_ml[~df_major_ml.Sector.isnull()]\n",
    "df_major_ml_test = df_major_ml[df_major_ml.Sector.isnull()]\n",
    "\n",
    "X_train, X_test, y_train, y_test = df_major_ml_train.Industry, df_major_ml_test.Industry, df_major_ml_train.Sector, df_major_ml_test.Sector"
   ]
  },
  {
   "cell_type": "code",
   "execution_count": 27,
   "metadata": {},
   "outputs": [],
   "source": [
    "# Vectorization\n",
    "x_tfidf_train = v.transform(X_train)\n",
    "x_tfidf_test = v.transform(X_test)\n",
    "\n",
    "# Classifier - Algorithm - SVM\n",
    "s = svm.LinearSVC(C=1.0)\n",
    "# fit the training dataset on the classifier\n",
    "s.fit(x_tfidf_train, y_train)# predict the labels on validation dataset\n",
    "s_pred = s.predict(x_tfidf_test)"
   ]
  },
  {
   "cell_type": "code",
   "execution_count": 28,
   "metadata": {},
   "outputs": [
    {
     "name": "stderr",
     "output_type": "stream",
     "text": [
      "D:\\Programs\\Anaconda\\lib\\site-packages\\ipykernel_launcher.py:1: SettingWithCopyWarning: \n",
      "A value is trying to be set on a copy of a slice from a DataFrame\n",
      "\n",
      "See the caveats in the documentation: http://pandas.pydata.org/pandas-docs/stable/indexing.html#indexing-view-versus-copy\n",
      "  \"\"\"Entry point for launching an IPython kernel.\n"
     ]
    }
   ],
   "source": [
    "df_major_ml['Sector'][df_major_ml.Sector.isnull()] = s_pred"
   ]
  },
  {
   "cell_type": "code",
   "execution_count": 29,
   "metadata": {},
   "outputs": [],
   "source": [
    "# checking the star raiting"
   ]
  },
  {
   "cell_type": "code",
   "execution_count": 30,
   "metadata": {},
   "outputs": [],
   "source": [
    "df_major_ml = df_major_ml[['job_id', 'jobTitle', 'Category', 'Location', 'CompanyName', 'CompanySize', 'Industry', 'Sector', 'Star_rating', 'description', 'Industry_clean']]\n",
    "df_major_ml = df_major_ml.sample(len(df_major_ml))\n",
    "df_major_ml['Star_rating'].fillna(method = 'bfill', inplace = True)\n",
    "\n",
    "import math, numpy\n",
    "df_major_ml['Star_rating_round'] = [round(x) if math.isnan(x) is False else None  for x in  df_major_ml['Star_rating']]"
   ]
  },
  {
   "cell_type": "code",
   "execution_count": 31,
   "metadata": {},
   "outputs": [
    {
     "name": "stdout",
     "output_type": "stream",
     "text": [
      "<class 'pandas.core.frame.DataFrame'>\n",
      "Int64Index: 40326 entries, 38123 to 10774\n",
      "Data columns (total 12 columns):\n",
      "job_id               40326 non-null int64\n",
      "jobTitle             40326 non-null object\n",
      "Category             40326 non-null object\n",
      "Location             40326 non-null object\n",
      "CompanyName          40321 non-null object\n",
      "CompanySize          40326 non-null object\n",
      "Industry             40326 non-null object\n",
      "Sector               40326 non-null object\n",
      "Star_rating          40326 non-null float64\n",
      "description          40326 non-null object\n",
      "Industry_clean       40326 non-null object\n",
      "Star_rating_round    40326 non-null int64\n",
      "dtypes: float64(1), int64(2), object(9)\n",
      "memory usage: 4.0+ MB\n"
     ]
    }
   ],
   "source": [
    "df_major_ml.info()"
   ]
  },
  {
   "cell_type": "code",
   "execution_count": 32,
   "metadata": {},
   "outputs": [],
   "source": [
    "# Filling Company name\n",
    "df_major_ml.CompanyName.fillna(value = 'NoName', inplace = True)"
   ]
  },
  {
   "cell_type": "code",
   "execution_count": 33,
   "metadata": {},
   "outputs": [
    {
     "name": "stdout",
     "output_type": "stream",
     "text": [
      "<class 'pandas.core.frame.DataFrame'>\n",
      "Int64Index: 40326 entries, 38123 to 10774\n",
      "Data columns (total 12 columns):\n",
      "job_id               40326 non-null int64\n",
      "jobTitle             40326 non-null object\n",
      "Category             40326 non-null object\n",
      "Location             40326 non-null object\n",
      "CompanyName          40326 non-null object\n",
      "CompanySize          40326 non-null object\n",
      "Industry             40326 non-null object\n",
      "Sector               40326 non-null object\n",
      "Star_rating          40326 non-null float64\n",
      "description          40326 non-null object\n",
      "Industry_clean       40326 non-null object\n",
      "Star_rating_round    40326 non-null int64\n",
      "dtypes: float64(1), int64(2), object(9)\n",
      "memory usage: 4.0+ MB\n"
     ]
    }
   ],
   "source": [
    "df_major_ml.info()"
   ]
  },
  {
   "cell_type": "code",
   "execution_count": 34,
   "metadata": {},
   "outputs": [
    {
     "name": "stdout",
     "output_type": "stream",
     "text": [
      "['job_id', 'jobTitle', 'Category', 'Location', 'CompanyName', 'CompanySize', 'Industry', 'Sector', 'Star_rating', 'description', 'Industry_clean', 'Star_rating_round']\n"
     ]
    }
   ],
   "source": [
    "print(df_major_ml.columns.tolist())"
   ]
  },
  {
   "cell_type": "code",
   "execution_count": 35,
   "metadata": {},
   "outputs": [],
   "source": [
    "#df_major_ml[['job_id', 'jobTitle', 'Category', 'Location', 'CompanyName', 'CompanySize', 'Industry', 'Sector', 'Star_rating', 'description', 'Industry_clean', 'Star_rating_round']]"
   ]
  },
  {
   "cell_type": "code",
   "execution_count": 36,
   "metadata": {},
   "outputs": [
    {
     "data": {
      "text/html": [
       "<div>\n",
       "<style scoped>\n",
       "    .dataframe tbody tr th:only-of-type {\n",
       "        vertical-align: middle;\n",
       "    }\n",
       "\n",
       "    .dataframe tbody tr th {\n",
       "        vertical-align: top;\n",
       "    }\n",
       "\n",
       "    .dataframe thead th {\n",
       "        text-align: right;\n",
       "    }\n",
       "</style>\n",
       "<table border=\"1\" class=\"dataframe\">\n",
       "  <thead>\n",
       "    <tr style=\"text-align: right;\">\n",
       "      <th></th>\n",
       "      <th>job_id</th>\n",
       "      <th>jobTitle</th>\n",
       "      <th>jobCategory</th>\n",
       "      <th>CompanyName</th>\n",
       "      <th>CompanySize</th>\n",
       "      <th>Industry</th>\n",
       "      <th>Sector</th>\n",
       "      <th>StarRating</th>\n",
       "    </tr>\n",
       "  </thead>\n",
       "  <tbody>\n",
       "    <tr>\n",
       "      <th>38123</th>\n",
       "      <td>3216908031</td>\n",
       "      <td>ISR Data Analyst</td>\n",
       "      <td>Analyst</td>\n",
       "      <td>Compass, Inc.</td>\n",
       "      <td>201-500</td>\n",
       "      <td>Colleges &amp; Universities</td>\n",
       "      <td>Education</td>\n",
       "      <td>3</td>\n",
       "    </tr>\n",
       "    <tr>\n",
       "      <th>22855</th>\n",
       "      <td>3331510614</td>\n",
       "      <td>Factory Service Environmental, Health, and Saf...</td>\n",
       "      <td>Other</td>\n",
       "      <td>GE Appliances</td>\n",
       "      <td>1-10000</td>\n",
       "      <td>Consumer Products Manufacturing</td>\n",
       "      <td>Manufacturing</td>\n",
       "      <td>4</td>\n",
       "    </tr>\n",
       "    <tr>\n",
       "      <th>35067</th>\n",
       "      <td>3390540112</td>\n",
       "      <td>Senior Software Engineer</td>\n",
       "      <td>Developer</td>\n",
       "      <td>Oracle</td>\n",
       "      <td>1-10000</td>\n",
       "      <td>Enterprise Software &amp; Network Solutions</td>\n",
       "      <td>Information Technology</td>\n",
       "      <td>4</td>\n",
       "    </tr>\n",
       "    <tr>\n",
       "      <th>24302</th>\n",
       "      <td>3389740013</td>\n",
       "      <td>Financial Reporting- Technology Risk- Business...</td>\n",
       "      <td>Business Analytics</td>\n",
       "      <td>Wells Fargo</td>\n",
       "      <td>1-10000</td>\n",
       "      <td>Banks &amp; Credit Unions</td>\n",
       "      <td>Finance</td>\n",
       "      <td>4</td>\n",
       "    </tr>\n",
       "    <tr>\n",
       "      <th>38853</th>\n",
       "      <td>3390405098</td>\n",
       "      <td>Track Management Engineering and Analysis</td>\n",
       "      <td>Consultant</td>\n",
       "      <td>Silver Bullet Solutions</td>\n",
       "      <td>1-10000</td>\n",
       "      <td>IT Services</td>\n",
       "      <td>Information Technology</td>\n",
       "      <td>3</td>\n",
       "    </tr>\n",
       "  </tbody>\n",
       "</table>\n",
       "</div>"
      ],
      "text/plain": [
       "           job_id                                           jobTitle  \\\n",
       "38123  3216908031                                   ISR Data Analyst   \n",
       "22855  3331510614  Factory Service Environmental, Health, and Saf...   \n",
       "35067  3390540112                           Senior Software Engineer   \n",
       "24302  3389740013  Financial Reporting- Technology Risk- Business...   \n",
       "38853  3390405098          Track Management Engineering and Analysis   \n",
       "\n",
       "              jobCategory              CompanyName CompanySize  \\\n",
       "38123             Analyst            Compass, Inc.     201-500   \n",
       "22855               Other            GE Appliances     1-10000   \n",
       "35067           Developer                   Oracle     1-10000   \n",
       "24302  Business Analytics              Wells Fargo     1-10000   \n",
       "38853          Consultant  Silver Bullet Solutions     1-10000   \n",
       "\n",
       "                                      Industry                  Sector  \\\n",
       "38123                  Colleges & Universities               Education   \n",
       "22855          Consumer Products Manufacturing           Manufacturing   \n",
       "35067  Enterprise Software & Network Solutions  Information Technology   \n",
       "24302                    Banks & Credit Unions                 Finance   \n",
       "38853                              IT Services  Information Technology   \n",
       "\n",
       "       StarRating  \n",
       "38123           3  \n",
       "22855           4  \n",
       "35067           4  \n",
       "24302           4  \n",
       "38853           3  "
      ]
     },
     "execution_count": 36,
     "metadata": {},
     "output_type": "execute_result"
    }
   ],
   "source": [
    "# Final version of fact table\n",
    "df_major_final = df_major_ml[['job_id', 'jobTitle', 'Category', 'CompanyName', 'CompanySize', 'Industry', 'Sector', 'Star_rating_round']]\n",
    "df_major_final.columns = ['job_id', 'jobTitle', 'jobCategory', 'CompanyName', 'CompanySize','Industry', 'Sector', 'StarRating']\n",
    "df_major_final.head()"
   ]
  },
  {
   "cell_type": "code",
   "execution_count": 22,
   "metadata": {},
   "outputs": [],
   "source": [
    "df_major_final.to_csv('D:/Python Catalyst/Week 39 - Project work Selko_io/Analysis/Analysis 2nd version/Clean Data/fact_table.csv', index = False)"
   ]
  },
  {
   "cell_type": "code",
   "execution_count": 22,
   "metadata": {},
   "outputs": [],
   "source": []
  },
  {
   "cell_type": "markdown",
   "metadata": {},
   "source": [
    "# Soft Name table"
   ]
  },
  {
   "cell_type": "code",
   "execution_count": 38,
   "metadata": {},
   "outputs": [],
   "source": [
    "soft_names = pd.read_csv('google_orig_soft_names.csv')"
   ]
  },
  {
   "cell_type": "code",
   "execution_count": 44,
   "metadata": {},
   "outputs": [
    {
     "name": "stdout",
     "output_type": "stream",
     "text": [
      "<class 'pandas.core.frame.DataFrame'>\n",
      "RangeIndex: 115586 entries, 0 to 115585\n",
      "Data columns (total 5 columns):\n",
      "job_id                115586 non-null int64\n",
      "soft_name             115586 non-null object\n",
      "Google_name           115586 non-null object\n",
      "Google_name_transf    115586 non-null object\n",
      "soft_cat              104176 non-null object\n",
      "dtypes: int64(1), object(4)\n",
      "memory usage: 4.4+ MB\n"
     ]
    }
   ],
   "source": [
    "soft_names.info()"
   ]
  },
  {
   "cell_type": "code",
   "execution_count": 40,
   "metadata": {},
   "outputs": [],
   "source": [
    "soft_names['soft_name'] = soft_names.soft_name.apply(lambda x: 'Not mentioned' if x !=x else x)"
   ]
  },
  {
   "cell_type": "code",
   "execution_count": 41,
   "metadata": {},
   "outputs": [],
   "source": [
    "soft_names['Google_name'] =  soft_names.Google_name.apply(lambda x: 'Not mentioned' if x !=x else x)"
   ]
  },
  {
   "cell_type": "code",
   "execution_count": 42,
   "metadata": {},
   "outputs": [],
   "source": [
    "soft_names['Google_name_transf'] =  soft_names.Google_name_transf.apply(lambda x: 'Not mentioned' if x !=x else x)"
   ]
  },
  {
   "cell_type": "code",
   "execution_count": 47,
   "metadata": {},
   "outputs": [],
   "source": [
    "soft_name_up_ver = soft_names[['job_id','Google_name_transf', 'soft_cat']]\n",
    "soft_name_up_ver.columns = ['job_id','SoftNames', 'SoftCatName']"
   ]
  },
  {
   "cell_type": "code",
   "execution_count": 238,
   "metadata": {},
   "outputs": [
    {
     "name": "stdout",
     "output_type": "stream",
     "text": [
      "<class 'pandas.core.frame.DataFrame'>\n",
      "RangeIndex: 115586 entries, 0 to 115585\n",
      "Data columns (total 3 columns):\n",
      "job_id         115586 non-null int64\n",
      "SoftNames      115586 non-null object\n",
      "SoftCatName    104176 non-null object\n",
      "dtypes: int64(1), object(2)\n",
      "memory usage: 2.6+ MB\n"
     ]
    }
   ],
   "source": [
    "soft_name_up_ver.info()"
   ]
  },
  {
   "cell_type": "code",
   "execution_count": 241,
   "metadata": {},
   "outputs": [
    {
     "name": "stderr",
     "output_type": "stream",
     "text": [
      "D:\\Programs\\Anaconda\\lib\\site-packages\\ipykernel_launcher.py:1: SettingWithCopyWarning: \n",
      "A value is trying to be set on a copy of a slice from a DataFrame.\n",
      "Try using .loc[row_indexer,col_indexer] = value instead\n",
      "\n",
      "See the caveats in the documentation: http://pandas.pydata.org/pandas-docs/stable/indexing.html#indexing-view-versus-copy\n",
      "  \"\"\"Entry point for launching an IPython kernel.\n"
     ]
    }
   ],
   "source": [
    "soft_name_up_ver['SoftNames']=soft_name_up_ver.SoftNames.apply(lambda x: x.lower().title())"
   ]
  },
  {
   "cell_type": "markdown",
   "metadata": {},
   "source": [
    "## Clustering"
   ]
  },
  {
   "cell_type": "code",
   "execution_count": 71,
   "metadata": {},
   "outputs": [
    {
     "data": {
      "text/plain": [
       "Index(['big_data_tools', 'bi_tools', 'data_lang', 'more_data_tools',\n",
       "       'data_warehouse'],\n",
       "      dtype='object')"
      ]
     },
     "execution_count": 71,
     "metadata": {},
     "output_type": "execute_result"
    }
   ],
   "source": [
    "all_tools = pd.read_csv('all_tools_df.csv')\n",
    "all_tools.columns"
   ]
  },
  {
   "cell_type": "code",
   "execution_count": 73,
   "metadata": {},
   "outputs": [
    {
     "data": {
      "text/html": [
       "<div>\n",
       "<style scoped>\n",
       "    .dataframe tbody tr th:only-of-type {\n",
       "        vertical-align: middle;\n",
       "    }\n",
       "\n",
       "    .dataframe tbody tr th {\n",
       "        vertical-align: top;\n",
       "    }\n",
       "\n",
       "    .dataframe thead th {\n",
       "        text-align: right;\n",
       "    }\n",
       "</style>\n",
       "<table border=\"1\" class=\"dataframe\">\n",
       "  <thead>\n",
       "    <tr style=\"text-align: right;\">\n",
       "      <th></th>\n",
       "      <th>Business Intelligence</th>\n",
       "      <th>Programming Language</th>\n",
       "      <th>Data Warehouse</th>\n",
       "    </tr>\n",
       "  </thead>\n",
       "  <tbody>\n",
       "    <tr>\n",
       "      <th>0</th>\n",
       "      <td>TIBCO Spotfire</td>\n",
       "      <td>Python</td>\n",
       "      <td>Arm Treasure Data</td>\n",
       "    </tr>\n",
       "    <tr>\n",
       "      <th>1</th>\n",
       "      <td>SAP Crystal</td>\n",
       "      <td>R</td>\n",
       "      <td>Amazon Redshift</td>\n",
       "    </tr>\n",
       "    <tr>\n",
       "      <th>2</th>\n",
       "      <td>Tableau Desktop</td>\n",
       "      <td>SQL</td>\n",
       "      <td>Oracle Exadata Database Machine</td>\n",
       "    </tr>\n",
       "    <tr>\n",
       "      <th>3</th>\n",
       "      <td>Qlik Sense</td>\n",
       "      <td>C</td>\n",
       "      <td>Snowflake</td>\n",
       "    </tr>\n",
       "    <tr>\n",
       "      <th>4</th>\n",
       "      <td>TIBCO Jaspersoft</td>\n",
       "      <td>C++</td>\n",
       "      <td>SAP Business Warehouse</td>\n",
       "    </tr>\n",
       "  </tbody>\n",
       "</table>\n",
       "</div>"
      ],
      "text/plain": [
       "  Business Intelligence Programming Language                   Data Warehouse\n",
       "0        TIBCO Spotfire               Python                Arm Treasure Data\n",
       "1           SAP Crystal                    R                  Amazon Redshift\n",
       "2       Tableau Desktop                  SQL  Oracle Exadata Database Machine\n",
       "3            Qlik Sense                    C                        Snowflake\n",
       "4      TIBCO Jaspersoft                  C++           SAP Business Warehouse"
      ]
     },
     "execution_count": 73,
     "metadata": {},
     "output_type": "execute_result"
    }
   ],
   "source": [
    "all_tools.data_lang[3] = 'C'\n",
    "all_tools_up = all_tools[['bi_tools', 'data_lang','data_warehouse']]\n",
    "all_tools_up.columns = ['Business Intelligence', 'Programming Language','Data Warehouse']\n",
    "all_tools_up.head()"
   ]
  },
  {
   "cell_type": "code",
   "execution_count": 80,
   "metadata": {},
   "outputs": [],
   "source": [
    "tools_and_cat = all_tools_up.stack().reset_index()\n",
    "tools_and_cat = tools_and_cat[['level_1',0]]\n",
    "tools_and_cat.columns = ['category', 'tool_name']"
   ]
  },
  {
   "cell_type": "code",
   "execution_count": 121,
   "metadata": {},
   "outputs": [],
   "source": [
    "from sklearn.metrics.pairwise import cosine_similarity as cosi\n",
    "from sklearn.feature_extraction.text import CountVectorizer\n",
    "from IPython.display import clear_output\n",
    "import string"
   ]
  },
  {
   "cell_type": "code",
   "execution_count": 208,
   "metadata": {},
   "outputs": [],
   "source": [
    "# creating Categories\n",
    "def soft_categorizer(ls_soft, tools_ls):\n",
    "    cat_ls = []\n",
    "    tools_ls_lower = [i.lower() for i in tools_ls]\n",
    "    for i in range(len(ls_soft)):\n",
    "        temp_ls =[ls_soft[i].lower()]+tools_ls_lower\n",
    "        #vectorize\n",
    "        \n",
    "        string_length = ls_soft[i].translate(str.maketrans('', '', string.punctuation))\n",
    "        if len(string_length)<=1:\n",
    "            v1 =  CountVectorizer(analyzer = 'char').fit_transform(temp_ls).toarray()\n",
    "            \n",
    "            max_sim = max(cosi(v1)[0][1:])\n",
    "            if max_sim >0.7:\n",
    "                ind_num_of_job_name = cosi(v1)[0][1:].tolist().index(max_sim)\n",
    "                assigned_label = tools_and_cat.category[ind_num_of_job_name]\n",
    "                cat_ls.append(assigned_label)\n",
    "            \n",
    "            elif max_sim <0.4:\n",
    "                cat_ls.append('Other')\n",
    "\n",
    "            else:\n",
    "                cat_ls.append(None)\n",
    "        \n",
    "        else:\n",
    "            v1 =  CountVectorizer(analyzer = 'word').fit_transform(temp_ls).toarray()\n",
    "            \n",
    "        #max similarity level\n",
    "            max_sim = max(cosi(v1)[0][1:])\n",
    "\n",
    "            # conditional statement \n",
    "            if max_sim >0.79:\n",
    "                ind_num_of_job_name = cosi(v1)[0][1:].tolist().index(max_sim)\n",
    "                assigned_label = tools_and_cat.category[ind_num_of_job_name]\n",
    "                cat_ls.append(assigned_label)\n",
    "\n",
    "            elif max_sim <0.4:\n",
    "                cat_ls.append('Other')\n",
    "\n",
    "            else:\n",
    "                cat_ls.append(None)\n",
    "        clear_output()\n",
    "        print('Completed:',i+1)\n",
    "        print('Left:',len(ls_soft) - (i+1))\n",
    "    return (cat_ls)"
   ]
  },
  {
   "cell_type": "code",
   "execution_count": 209,
   "metadata": {},
   "outputs": [
    {
     "name": "stdout",
     "output_type": "stream",
     "text": [
      "Completed: 4737\n",
      "Left: 0\n"
     ]
    }
   ],
   "source": [
    "#ls_soft\n",
    "ls_soft = soft_name_up_ver.SoftNames.value_counts().index.tolist()\n",
    "tools_ls = tools_and_cat.tool_name.tolist()\n",
    "categories_ls = soft_categorizer(ls_soft = ls_soft, tools_ls = tools_ls)"
   ]
  },
  {
   "cell_type": "code",
   "execution_count": 210,
   "metadata": {},
   "outputs": [
    {
     "data": {
      "text/plain": [
       "4737"
      ]
     },
     "execution_count": 210,
     "metadata": {},
     "output_type": "execute_result"
    }
   ],
   "source": [
    "len(categories_ls)"
   ]
  },
  {
   "cell_type": "code",
   "execution_count": 128,
   "metadata": {},
   "outputs": [
    {
     "data": {
      "text/plain": [
       "array([0.        , 0.        , 0.        , 0.        , 1.        ,\n",
       "       0.70710678, 0.        , 0.5       , 0.        ])"
      ]
     },
     "execution_count": 128,
     "metadata": {},
     "output_type": "execute_result"
    }
   ],
   "source": [
    "#pd.DataFrame({'SoftNames':ls_soft, 'SoftCategory':categories_ls})\n",
    "#all_tools_up['Business Intelligence']\n",
    "ls_t = ['Power Bi','Microsoft Power Bi', 'Microsoft Office','Microsoft','Tableau Server','Tableau','S','Tableau Desktop','S']\n",
    "ls_t = ['CC','CC']\n",
    "v1_t =  CountVectorizer(analyzer = 'word').fit_transform(ls_t).toarray()\n",
    "cosi(v1_t)[4]\n"
   ]
  },
  {
   "cell_type": "code",
   "execution_count": 157,
   "metadata": {},
   "outputs": [],
   "source": [
    "#all_tools_up['Business Intelligence'].dropna()"
   ]
  },
  {
   "cell_type": "code",
   "execution_count": 211,
   "metadata": {},
   "outputs": [],
   "source": [
    "#all_tools_up['Programming Language']\n",
    "df_soft_with_cat = pd.merge(soft_name_up_ver, pd.DataFrame({'SoftNames':ls_soft, 'SoftCategory':categories_ls}), how= 'left', on ='SoftNames')"
   ]
  },
  {
   "cell_type": "code",
   "execution_count": 236,
   "metadata": {},
   "outputs": [
    {
     "data": {
      "text/plain": [
       "61391"
      ]
     },
     "execution_count": 236,
     "metadata": {},
     "output_type": "execute_result"
    }
   ],
   "source": [
    "sum(df_soft_with_cat.SoftCategory.value_counts())"
   ]
  },
  {
   "cell_type": "code",
   "execution_count": 233,
   "metadata": {},
   "outputs": [
    {
     "data": {
      "text/html": [
       "<div>\n",
       "<style scoped>\n",
       "    .dataframe tbody tr th:only-of-type {\n",
       "        vertical-align: middle;\n",
       "    }\n",
       "\n",
       "    .dataframe tbody tr th {\n",
       "        vertical-align: top;\n",
       "    }\n",
       "\n",
       "    .dataframe thead th {\n",
       "        text-align: right;\n",
       "    }\n",
       "</style>\n",
       "<table border=\"1\" class=\"dataframe\">\n",
       "  <thead>\n",
       "    <tr style=\"text-align: right;\">\n",
       "      <th></th>\n",
       "      <th>SoftNames</th>\n",
       "      <th>SoftCategory</th>\n",
       "    </tr>\n",
       "  </thead>\n",
       "  <tbody>\n",
       "    <tr>\n",
       "      <th>2</th>\n",
       "      <td>SQL</td>\n",
       "      <td>Programming Language</td>\n",
       "    </tr>\n",
       "    <tr>\n",
       "      <th>4</th>\n",
       "      <td>Python</td>\n",
       "      <td>Programming Language</td>\n",
       "    </tr>\n",
       "    <tr>\n",
       "      <th>6</th>\n",
       "      <td>Java</td>\n",
       "      <td>Programming Language</td>\n",
       "    </tr>\n",
       "    <tr>\n",
       "      <th>7</th>\n",
       "      <td>JavaScript</td>\n",
       "      <td>Programming Language</td>\n",
       "    </tr>\n",
       "    <tr>\n",
       "      <th>11</th>\n",
       "      <td>R</td>\n",
       "      <td>Programming Language</td>\n",
       "    </tr>\n",
       "    <tr>\n",
       "      <th>16</th>\n",
       "      <td>C++</td>\n",
       "      <td>Programming Language</td>\n",
       "    </tr>\n",
       "    <tr>\n",
       "      <th>20</th>\n",
       "      <td>Scala</td>\n",
       "      <td>Programming Language</td>\n",
       "    </tr>\n",
       "    <tr>\n",
       "      <th>21</th>\n",
       "      <td>C</td>\n",
       "      <td>Programming Language</td>\n",
       "    </tr>\n",
       "    <tr>\n",
       "      <th>38</th>\n",
       "      <td>MATLAB</td>\n",
       "      <td>Programming Language</td>\n",
       "    </tr>\n",
       "    <tr>\n",
       "      <th>72</th>\n",
       "      <td>Swift</td>\n",
       "      <td>Programming Language</td>\n",
       "    </tr>\n",
       "    <tr>\n",
       "      <th>1474</th>\n",
       "      <td>Javascript</td>\n",
       "      <td>Programming Language</td>\n",
       "    </tr>\n",
       "    <tr>\n",
       "      <th>2128</th>\n",
       "      <td>Sql</td>\n",
       "      <td>Programming Language</td>\n",
       "    </tr>\n",
       "    <tr>\n",
       "      <th>2742</th>\n",
       "      <td>Matlab</td>\n",
       "      <td>Programming Language</td>\n",
       "    </tr>\n",
       "  </tbody>\n",
       "</table>\n",
       "</div>"
      ],
      "text/plain": [
       "       SoftNames          SoftCategory\n",
       "2            SQL  Programming Language\n",
       "4         Python  Programming Language\n",
       "6           Java  Programming Language\n",
       "7     JavaScript  Programming Language\n",
       "11             R  Programming Language\n",
       "16           C++  Programming Language\n",
       "20         Scala  Programming Language\n",
       "21             C  Programming Language\n",
       "38        MATLAB  Programming Language\n",
       "72         Swift  Programming Language\n",
       "1474  Javascript  Programming Language\n",
       "2128         Sql  Programming Language\n",
       "2742      Matlab  Programming Language"
      ]
     },
     "execution_count": 233,
     "metadata": {},
     "output_type": "execute_result"
    }
   ],
   "source": [
    "# Business Intelligence      \n",
    "# Data Warehouse             \n",
    "# Programming Language  \n",
    "\n",
    "df_s = pd.DataFrame({'SoftNames':ls_soft, 'SoftCategory':categories_ls})\n",
    "df_s[df_s.SoftCategory == 'Programming Language']"
   ]
  },
  {
   "cell_type": "code",
   "execution_count": 187,
   "metadata": {},
   "outputs": [
    {
     "data": {
      "text/plain": [
       "'Qlik View'"
      ]
     },
     "execution_count": 187,
     "metadata": {},
     "output_type": "execute_result"
    }
   ],
   "source": [
    "'Qlik View'.lower().title()"
   ]
  },
  {
   "cell_type": "code",
   "execution_count": 191,
   "metadata": {},
   "outputs": [
    {
     "data": {
      "text/plain": [
       "115586"
      ]
     },
     "execution_count": 191,
     "metadata": {},
     "output_type": "execute_result"
    }
   ],
   "source": [
    "len(df_soft_with_cat)"
   ]
  },
  {
   "cell_type": "code",
   "execution_count": 212,
   "metadata": {},
   "outputs": [
    {
     "data": {
      "text/html": [
       "<div>\n",
       "<style scoped>\n",
       "    .dataframe tbody tr th:only-of-type {\n",
       "        vertical-align: middle;\n",
       "    }\n",
       "\n",
       "    .dataframe tbody tr th {\n",
       "        vertical-align: top;\n",
       "    }\n",
       "\n",
       "    .dataframe thead th {\n",
       "        text-align: right;\n",
       "    }\n",
       "</style>\n",
       "<table border=\"1\" class=\"dataframe\">\n",
       "  <thead>\n",
       "    <tr style=\"text-align: right;\">\n",
       "      <th></th>\n",
       "      <th>job_id</th>\n",
       "      <th>SoftNames</th>\n",
       "      <th>SoftCatName</th>\n",
       "      <th>SoftCategory</th>\n",
       "    </tr>\n",
       "  </thead>\n",
       "  <tbody>\n",
       "    <tr>\n",
       "      <th>0</th>\n",
       "      <td>3394200362</td>\n",
       "      <td>Microsoft Office</td>\n",
       "      <td>Microsoft</td>\n",
       "      <td>None</td>\n",
       "    </tr>\n",
       "    <tr>\n",
       "      <th>1</th>\n",
       "      <td>3395019069</td>\n",
       "      <td>Not mentioned</td>\n",
       "      <td>NaN</td>\n",
       "      <td>Other</td>\n",
       "    </tr>\n",
       "    <tr>\n",
       "      <th>2</th>\n",
       "      <td>3310569642</td>\n",
       "      <td>Amazon Web Services</td>\n",
       "      <td>Amazon</td>\n",
       "      <td>None</td>\n",
       "    </tr>\n",
       "  </tbody>\n",
       "</table>\n",
       "</div>"
      ],
      "text/plain": [
       "       job_id            SoftNames SoftCatName SoftCategory\n",
       "0  3394200362     Microsoft Office   Microsoft         None\n",
       "1  3395019069        Not mentioned         NaN        Other\n",
       "2  3310569642  Amazon Web Services      Amazon         None"
      ]
     },
     "execution_count": 212,
     "metadata": {},
     "output_type": "execute_result"
    }
   ],
   "source": [
    "df_soft_with_cat.head(3)"
   ]
  },
  {
   "cell_type": "code",
   "execution_count": 213,
   "metadata": {},
   "outputs": [
    {
     "name": "stdout",
     "output_type": "stream",
     "text": [
      "Done1\n",
      "Done2\n",
      "Done3\n",
      "Done4\n"
     ]
    }
   ],
   "source": [
    "soft_to_clean = df_soft_with_cat.SoftNames.value_counts().index.tolist()\n",
    "soft_clean_ls = text_preprocessing(soft_to_clean)"
   ]
  },
  {
   "cell_type": "code",
   "execution_count": 271,
   "metadata": {},
   "outputs": [
    {
     "name": "stdout",
     "output_type": "stream",
     "text": [
      "115586\n"
     ]
    },
    {
     "data": {
      "text/plain": [
       "Other                    33123\n",
       "Programming Language     25840\n",
       "Business Intelligence     1779\n",
       "Data Warehouse             649\n",
       "Name: SoftCategory, dtype: int64"
      ]
     },
     "execution_count": 271,
     "metadata": {},
     "output_type": "execute_result"
    }
   ],
   "source": [
    "df_soft_with_cat_svm = pd.merge(df_soft_with_cat,pd.DataFrame({'SoftNames':soft_to_clean,'SoftNames_clean':soft_clean_ls}), how= 'left', on='SoftNames')\n",
    "print(len(df_soft_with_cat_svm))\n",
    "df_soft_with_cat_svm.head(3)\n",
    "#df_soft_with_cat_svm[(~df_soft_with_cat_svm.SoftCategory.isnull()) & (df_soft_with_cat_svm.SoftCategory != 'Programming Language')]\n",
    "df_soft_with_cat_svm.SoftCategory.value_counts()"
   ]
  },
  {
   "cell_type": "code",
   "execution_count": 258,
   "metadata": {},
   "outputs": [
    {
     "name": "stdout",
     "output_type": "stream",
     "text": [
      "Tfid fitted\n"
     ]
    }
   ],
   "source": [
    "#Vectorization\n",
    "#1st step\n",
    "from sklearn.feature_extraction.text import TfidfVectorizer\n",
    "v = TfidfVectorizer(max_features=3000)\n",
    "x = df_soft_with_cat_svm[df_soft_with_cat_svm.SoftCategory != 'Programming Language'][\"SoftNames_clean\"]\n",
    "v.fit(x)\n",
    "#x_tfidf = v.transform(x)\n",
    "print(\"Tfid fitted\")"
   ]
  },
  {
   "cell_type": "code",
   "execution_count": 259,
   "metadata": {},
   "outputs": [
    {
     "data": {
      "text/plain": [
       "89746"
      ]
     },
     "execution_count": 259,
     "metadata": {},
     "output_type": "execute_result"
    }
   ],
   "source": [
    "len(x)"
   ]
  },
  {
   "cell_type": "code",
   "execution_count": 261,
   "metadata": {},
   "outputs": [
    {
     "data": {
      "text/plain": [
       "35551"
      ]
     },
     "execution_count": 261,
     "metadata": {},
     "output_type": "execute_result"
    }
   ],
   "source": [
    "len(df_major_ml_train)"
   ]
  },
  {
   "cell_type": "code",
   "execution_count": 260,
   "metadata": {},
   "outputs": [],
   "source": [
    "#Model Testing\n",
    "df_major_ml_train = df_soft_with_cat_svm[(~df_soft_with_cat_svm.SoftCategory.isnull()) & (df_soft_with_cat_svm.SoftCategory != 'Programming Language')]\n",
    "from sklearn.model_selection import train_test_split\n",
    "X_train, X_test, y_train, y_test = train_test_split(df_major_ml_train.SoftNames_clean, df_major_ml_train.SoftCategory, test_size=0.2)\n",
    "\n",
    "# Vectorization\n",
    "x_tfidf_train = v.transform(X_train)\n",
    "x_tfidf_test = v.transform(X_test)"
   ]
  },
  {
   "cell_type": "code",
   "execution_count": 262,
   "metadata": {},
   "outputs": [
    {
     "name": "stdout",
     "output_type": "stream",
     "text": [
      "Accuracy Score (SVM) ->  99.94374912108002\n"
     ]
    }
   ],
   "source": [
    "## Training the model\n",
    "from sklearn import svm\n",
    "# Classifier - Algorithm - SVM\n",
    "s = svm.LinearSVC(C=1.0)\n",
    "\n",
    "# fit the training dataset on the classifier\n",
    "s.fit(x_tfidf_train, y_train)# predict the labels on validation dataset\n",
    "s_pred = s.predict(x_tfidf_test)\n",
    "\n",
    "from sklearn.metrics import accuracy_score\n",
    "# Use accuracy_score function to get the accuracy\n",
    "print(\"Accuracy Score (SVM) -> \",accuracy_score(s_pred, y_test)*100)"
   ]
  },
  {
   "cell_type": "code",
   "execution_count": 264,
   "metadata": {},
   "outputs": [],
   "source": [
    "#df_soft_with_cat_svm[(df_soft_with_cat_svm.SoftCategory.isnull()) & (df_soft_with_cat_svm.SoftCategory != 'Programming Language')]\n"
   ]
  },
  {
   "cell_type": "code",
   "execution_count": 265,
   "metadata": {},
   "outputs": [],
   "source": [
    "# Model Training and applying to Null Sector values\n",
    "df_major_ml_train = df_soft_with_cat_svm[(~df_soft_with_cat_svm.SoftCategory.isnull()) & (df_soft_with_cat_svm.SoftCategory != 'Programming Language')]\n",
    "df_major_ml_test = df_soft_with_cat_svm[(df_soft_with_cat_svm.SoftCategory.isnull()) & (df_soft_with_cat_svm.SoftCategory != 'Programming Language')]\n",
    "\n",
    "X_train, X_test, y_train, y_test = df_major_ml_train.SoftNames_clean, df_major_ml_test.SoftNames_clean, df_major_ml_train.SoftCategory, df_major_ml_test.SoftCategory"
   ]
  },
  {
   "cell_type": "code",
   "execution_count": 266,
   "metadata": {},
   "outputs": [],
   "source": [
    "# Vectorization\n",
    "x_tfidf_train = v.transform(X_train)\n",
    "x_tfidf_test = v.transform(X_test)\n",
    "\n",
    "# Classifier - Algorithm - SVM\n",
    "s = svm.LinearSVC(C=1.0)\n",
    "# fit the training dataset on the classifier\n",
    "s.fit(x_tfidf_train, y_train)# predict the labels on validation dataset\n",
    "s_pred = s.predict(x_tfidf_test)"
   ]
  },
  {
   "cell_type": "code",
   "execution_count": 267,
   "metadata": {},
   "outputs": [
    {
     "name": "stderr",
     "output_type": "stream",
     "text": [
      "D:\\Programs\\Anaconda\\lib\\site-packages\\ipykernel_launcher.py:2: SettingWithCopyWarning: \n",
      "A value is trying to be set on a copy of a slice from a DataFrame\n",
      "\n",
      "See the caveats in the documentation: http://pandas.pydata.org/pandas-docs/stable/indexing.html#indexing-view-versus-copy\n",
      "  \n"
     ]
    }
   ],
   "source": [
    "df_soft_with_cat_svm_ml_done = df_soft_with_cat_svm\n",
    "df_soft_with_cat_svm_ml_done['SoftCategory'][df_soft_with_cat_svm_ml_done.SoftCategory.isnull()] = s_pred"
   ]
  },
  {
   "cell_type": "code",
   "execution_count": 275,
   "metadata": {},
   "outputs": [
    {
     "name": "stdout",
     "output_type": "stream",
     "text": [
      "Other                    33123\n",
      "Programming Language     25840\n",
      "Business Intelligence     1779\n",
      "Data Warehouse             649\n",
      "Name: SoftCategory, dtype: int64\n",
      "\n",
      "Other                    82095\n",
      "Programming Language     25840\n",
      "Business Intelligence     6346\n",
      "Data Warehouse            1305\n",
      "Name: SoftCategory, dtype: int64\n"
     ]
    }
   ],
   "source": [
    "print(df_soft_with_cat_svm.SoftCategory.value_counts())\n",
    "print()\n",
    "print(df_soft_with_cat_svm_ml_done.SoftCategory.value_counts())"
   ]
  },
  {
   "cell_type": "code",
   "execution_count": 268,
   "metadata": {},
   "outputs": [
    {
     "data": {
      "text/plain": [
       "SQL           7399\n",
       "Python        6043\n",
       "Java          3540\n",
       "JavaScript    3005\n",
       "R             2065\n",
       "C++           1426\n",
       "Scala          967\n",
       "C              846\n",
       "MATLAB         409\n",
       "Swift          134\n",
       "Javascript       3\n",
       "Sql              2\n",
       "Matlab           1\n",
       "Name: SoftNames, dtype: int64"
      ]
     },
     "execution_count": 268,
     "metadata": {},
     "output_type": "execute_result"
    }
   ],
   "source": [
    "df_soft_with_cat_svm_ml_done[df_soft_with_cat_svm_ml_done.SoftCategory == 'Programming Language']['SoftNames'].value_counts()"
   ]
  },
  {
   "cell_type": "code",
   "execution_count": 288,
   "metadata": {},
   "outputs": [
    {
     "data": {
      "text/plain": [
       "DB2                                      531\n",
       "Snowflake                                307\n",
       "Amazon Redshift                          145\n",
       "Vertica                                  100\n",
       "SAP Cloud Platform                        48\n",
       "SAP BW                                    38\n",
       "Modern Data Warehouse                     34\n",
       "Exadata Database Machine                  14\n",
       "IBM Db2 Warehouse                         12\n",
       "MemSQL                                    12\n",
       "Integrated Data Warehouse                  8\n",
       "DB2 SQL                                    7\n",
       "SAP NetWeaver Business Warehouse           6\n",
       "Azure Data Warehouse                       6\n",
       "Db2                                        5\n",
       "IBM Db2                                    5\n",
       "Unified Data Analytics Platform            4\n",
       "Data Warehouse DBA                         3\n",
       "Oracle Managed Cloud Database Service      3\n",
       "Databricks Unified Analytics Platform      2\n",
       "Redshift                                   2\n",
       "Cloud Data Warehouse Software              2\n",
       "Oracle Autonomous Database                 1\n",
       "Microsoft Azure Data Warehouse             1\n",
       "Oracle Warehouse Builder                   1\n",
       "Autonomous Data Warehouse                  1\n",
       "Snowflake Experience Snowflake             1\n",
       "Adaptive Server Enterprise                 1\n",
       "Pivotal Greenplum                          1\n",
       "Expert Oracle Exadata                      1\n",
       "Exadata                                    1\n",
       "Cloudera Data Platform                     1\n",
       "Warehouse Management                       1\n",
       "Name: SoftNames, dtype: int64"
      ]
     },
     "execution_count": 288,
     "metadata": {},
     "output_type": "execute_result"
    }
   ],
   "source": [
    "grouped_cat = df_soft_with_cat_svm_ml_done.groupby(['SoftCategory', 'SoftNames'])\n",
    "df_soft_with_cat_svm_ml_done[df_soft_with_cat_svm_ml_done.SoftCategory == 'Data Warehouse' ]['SoftNames'].value_counts()"
   ]
  },
  {
   "cell_type": "code",
   "execution_count": 286,
   "metadata": {},
   "outputs": [
    {
     "data": {
      "text/plain": [
       "['Qlik', 'View ', 'Dashboards']"
      ]
     },
     "execution_count": 286,
     "metadata": {},
     "output_type": "execute_result"
    }
   ],
   "source": [
    "import re\n",
    "re.findall('.[^A-Z]*', 'QlikView Dashboards')"
   ]
  },
  {
   "cell_type": "code",
   "execution_count": 296,
   "metadata": {},
   "outputs": [],
   "source": [
    "#df_soft_with_cat_svm_ml_done['SoftCatName_new']\n",
    "df_soft_with_cat_svm_ml_done['SoftVendor'] = df_soft_with_cat_svm_ml_done.apply (lambda x: x['SoftNames'].split()[0] if len(x['SoftNames'].split()[0])>0 and\n",
    "                                   x['SoftNames'] != 'Not mentioned' and\n",
    "                                   x['SoftCategory'] != 'Programming Language' else None, axis = 1)"
   ]
  },
  {
   "cell_type": "code",
   "execution_count": 299,
   "metadata": {},
   "outputs": [
    {
     "data": {
      "text/plain": [
       "Microsoft     27235\n",
       "Amazon         5617\n",
       "Apache         4077\n",
       "Oracle         4020\n",
       "Tableau        2625\n",
       "Google         2116\n",
       "SAS            1742\n",
       "SAP            1737\n",
       "Salesforce     1581\n",
       "IBM            1291\n",
       "Name: SoftVendor, dtype: int64"
      ]
     },
     "execution_count": 299,
     "metadata": {},
     "output_type": "execute_result"
    }
   ],
   "source": [
    "df_soft_with_cat_svm_ml_done.SoftVendor.value_counts().head(10)"
   ]
  },
  {
   "cell_type": "code",
   "execution_count": 300,
   "metadata": {},
   "outputs": [
    {
     "data": {
      "text/html": [
       "<div>\n",
       "<style scoped>\n",
       "    .dataframe tbody tr th:only-of-type {\n",
       "        vertical-align: middle;\n",
       "    }\n",
       "\n",
       "    .dataframe tbody tr th {\n",
       "        vertical-align: top;\n",
       "    }\n",
       "\n",
       "    .dataframe thead th {\n",
       "        text-align: right;\n",
       "    }\n",
       "</style>\n",
       "<table border=\"1\" class=\"dataframe\">\n",
       "  <thead>\n",
       "    <tr style=\"text-align: right;\">\n",
       "      <th></th>\n",
       "      <th>job_id</th>\n",
       "      <th>SoftNames</th>\n",
       "      <th>SoftCatName</th>\n",
       "      <th>SoftCategory</th>\n",
       "      <th>SoftNames_clean</th>\n",
       "      <th>SoftVendor</th>\n",
       "    </tr>\n",
       "  </thead>\n",
       "  <tbody>\n",
       "    <tr>\n",
       "      <th>0</th>\n",
       "      <td>3394200362</td>\n",
       "      <td>Microsoft Office</td>\n",
       "      <td>Microsoft</td>\n",
       "      <td>Other</td>\n",
       "      <td>Microsoft Office</td>\n",
       "      <td>Microsoft</td>\n",
       "    </tr>\n",
       "    <tr>\n",
       "      <th>1</th>\n",
       "      <td>3395019069</td>\n",
       "      <td>Not mentioned</td>\n",
       "      <td>NaN</td>\n",
       "      <td>Other</td>\n",
       "      <td>mentioned</td>\n",
       "      <td>None</td>\n",
       "    </tr>\n",
       "    <tr>\n",
       "      <th>2</th>\n",
       "      <td>3310569642</td>\n",
       "      <td>Amazon Web Services</td>\n",
       "      <td>Amazon</td>\n",
       "      <td>Other</td>\n",
       "      <td>Amazon Web Services</td>\n",
       "      <td>Amazon</td>\n",
       "    </tr>\n",
       "    <tr>\n",
       "      <th>3</th>\n",
       "      <td>3310569642</td>\n",
       "      <td>Tableau</td>\n",
       "      <td>Tableau</td>\n",
       "      <td>Business Intelligence</td>\n",
       "      <td>Tableau</td>\n",
       "      <td>Tableau</td>\n",
       "    </tr>\n",
       "    <tr>\n",
       "      <th>4</th>\n",
       "      <td>3310569642</td>\n",
       "      <td>Java</td>\n",
       "      <td>Java</td>\n",
       "      <td>Programming Language</td>\n",
       "      <td>Java</td>\n",
       "      <td>None</td>\n",
       "    </tr>\n",
       "  </tbody>\n",
       "</table>\n",
       "</div>"
      ],
      "text/plain": [
       "       job_id            SoftNames SoftCatName           SoftCategory  \\\n",
       "0  3394200362     Microsoft Office   Microsoft                  Other   \n",
       "1  3395019069        Not mentioned         NaN                  Other   \n",
       "2  3310569642  Amazon Web Services      Amazon                  Other   \n",
       "3  3310569642              Tableau     Tableau  Business Intelligence   \n",
       "4  3310569642                 Java        Java   Programming Language   \n",
       "\n",
       "       SoftNames_clean SoftVendor  \n",
       "0     Microsoft Office  Microsoft  \n",
       "1            mentioned       None  \n",
       "2  Amazon Web Services     Amazon  \n",
       "3              Tableau    Tableau  \n",
       "4                 Java       None  "
      ]
     },
     "execution_count": 300,
     "metadata": {},
     "output_type": "execute_result"
    }
   ],
   "source": [
    "df_soft_with_cat_svm_ml_done.head()"
   ]
  },
  {
   "cell_type": "code",
   "execution_count": 306,
   "metadata": {},
   "outputs": [
    {
     "name": "stderr",
     "output_type": "stream",
     "text": [
      "D:\\Programs\\Anaconda\\lib\\site-packages\\ipykernel_launcher.py:4: SettingWithCopyWarning: \n",
      "A value is trying to be set on a copy of a slice from a DataFrame.\n",
      "Try using .loc[row_indexer,col_indexer] = value instead\n",
      "\n",
      "See the caveats in the documentation: http://pandas.pydata.org/pandas-docs/stable/indexing.html#indexing-view-versus-copy\n",
      "  after removing the cwd from sys.path.\n"
     ]
    }
   ],
   "source": [
    "final_soft_df  = df_soft_with_cat_svm_ml_done[['job_id', 'SoftNames', 'SoftVendor', 'SoftCategory']]\n",
    "final_soft_df.columns = ['job_id', 'SoftName', 'SoftVendor', 'SoftCategory']\n",
    "final_soft_df['SoftCategory'] = final_soft_df.apply(lambda x: None if x['SoftName'] == 'Not mentioned' \n",
    "                                                    else x['SoftCategory'], axis = 1)\n"
   ]
  },
  {
   "cell_type": "code",
   "execution_count": 309,
   "metadata": {},
   "outputs": [],
   "source": [
    "final_soft_df.to_csv('D:/Python Catalyst/Week 39 - Project work Selko_io/Analysis/Analysis 2nd version/Clean Data/software_names.csv')"
   ]
  },
  {
   "cell_type": "code",
   "execution_count": 2,
   "metadata": {},
   "outputs": [],
   "source": [
    "soft_df = pd.read_csv('D:/Python Catalyst/Week 39 - Project work Selko_io/Analysis/Analysis 2nd version/Clean Data/software_names.csv')"
   ]
  },
  {
   "cell_type": "code",
   "execution_count": 5,
   "metadata": {},
   "outputs": [],
   "source": [
    "soft_df = soft_df[['job_id', 'SoftName', 'SoftVendor', 'SoftCategory']]\n"
   ]
  },
  {
   "cell_type": "code",
   "execution_count": 7,
   "metadata": {},
   "outputs": [
    {
     "data": {
      "text/plain": [
       "Other                    70685\n",
       "Programming Language     25840\n",
       "Business Intelligence     6346\n",
       "Data Warehouse            1305\n",
       "Name: SoftCategory, dtype: int64"
      ]
     },
     "execution_count": 7,
     "metadata": {},
     "output_type": "execute_result"
    }
   ],
   "source": [
    "soft_df.SoftCategory.value_counts()"
   ]
  },
  {
   "cell_type": "code",
   "execution_count": 8,
   "metadata": {},
   "outputs": [
    {
     "data": {
      "text/plain": [
       "Index(['job_id', 'SoftName', 'SoftVendor', 'SoftCategory'], dtype='object')"
      ]
     },
     "execution_count": 8,
     "metadata": {},
     "output_type": "execute_result"
    }
   ],
   "source": [
    "soft_df.columns"
   ]
  },
  {
   "cell_type": "code",
   "execution_count": 10,
   "metadata": {},
   "outputs": [
    {
     "data": {
      "text/plain": [
       "Tableau               2493\n",
       "SAP                    841\n",
       "Microsoft Power BI     719\n",
       "Google Analytics       549\n",
       "Looker                 194\n",
       "Name: SoftName, dtype: int64"
      ]
     },
     "execution_count": 10,
     "metadata": {},
     "output_type": "execute_result"
    }
   ],
   "source": [
    "soft_df[soft_df.SoftCategory == 'Business Intelligence']['SoftName'].value_counts().head()"
   ]
  },
  {
   "cell_type": "code",
   "execution_count": 13,
   "metadata": {},
   "outputs": [
    {
     "name": "stderr",
     "output_type": "stream",
     "text": [
      "D:\\Programs\\Anaconda\\lib\\site-packages\\ipykernel_launcher.py:1: SettingWithCopyWarning: \n",
      "A value is trying to be set on a copy of a slice from a DataFrame\n",
      "\n",
      "See the caveats in the documentation: http://pandas.pydata.org/pandas-docs/stable/indexing.html#indexing-view-versus-copy\n",
      "  \"\"\"Entry point for launching an IPython kernel.\n",
      "D:\\Programs\\Anaconda\\lib\\site-packages\\pandas\\core\\generic.py:8682: SettingWithCopyWarning: \n",
      "A value is trying to be set on a copy of a slice from a DataFrame\n",
      "\n",
      "See the caveats in the documentation: http://pandas.pydata.org/pandas-docs/stable/indexing.html#indexing-view-versus-copy\n",
      "  self._update_inplace(new_data)\n",
      "D:\\Programs\\Anaconda\\lib\\site-packages\\IPython\\core\\interactiveshell.py:3325: SettingWithCopyWarning: \n",
      "A value is trying to be set on a copy of a slice from a DataFrame\n",
      "\n",
      "See the caveats in the documentation: http://pandas.pydata.org/pandas-docs/stable/indexing.html#indexing-view-versus-copy\n",
      "  exec(code_obj, self.user_global_ns, self.user_ns)\n"
     ]
    }
   ],
   "source": [
    "soft_df['SoftCategory'][(soft_df.SoftName =='SAP')&(soft_df.SoftCategory == 'Business Intelligence') ] = 'Other'"
   ]
  },
  {
   "cell_type": "code",
   "execution_count": 14,
   "metadata": {},
   "outputs": [
    {
     "data": {
      "text/plain": [
       "Series([], Name: SoftCategory, dtype: object)"
      ]
     },
     "execution_count": 14,
     "metadata": {},
     "output_type": "execute_result"
    }
   ],
   "source": [
    "soft_df['SoftCategory'][(soft_df.SoftName =='SAP')&(soft_df.SoftCategory == 'Business Intelligence') ]"
   ]
  },
  {
   "cell_type": "code",
   "execution_count": 15,
   "metadata": {},
   "outputs": [
    {
     "data": {
      "text/plain": [
       "Tableau               2493\n",
       "Microsoft Power BI     719\n",
       "Google Analytics       549\n",
       "Looker                 194\n",
       "KEEN                   141\n",
       "Name: SoftName, dtype: int64"
      ]
     },
     "execution_count": 15,
     "metadata": {},
     "output_type": "execute_result"
    }
   ],
   "source": [
    "soft_df[soft_df.SoftCategory == 'Business Intelligence']['SoftName'].value_counts().head()"
   ]
  },
  {
   "cell_type": "code",
   "execution_count": 16,
   "metadata": {},
   "outputs": [],
   "source": [
    "soft_df.to_csv('D:/Python Catalyst/Week 39 - Project work Selko_io/Analysis/Analysis 2nd version/Clean Data/software_names.csv', index = False)"
   ]
  },
  {
   "cell_type": "markdown",
   "metadata": {},
   "source": [
    "# Appending Geo Keys "
   ]
  },
  {
   "cell_type": "code",
   "execution_count": 5,
   "metadata": {},
   "outputs": [],
   "source": [
    "fact = pd.read_csv('Clean Data/fact_table.csv')\n",
    "soft = pd.read_csv('Clean Data/software_names.csv')\n",
    "location = pd.read_csv('Clean Data/google_location.csv')\n",
    "loc_con = pd.read_csv('Clean Data/job_and_loc_id_temp.csv')"
   ]
  },
  {
   "cell_type": "code",
   "execution_count": 6,
   "metadata": {},
   "outputs": [
    {
     "data": {
      "text/plain": [
       "Index(['job_id', 'location_id'], dtype='object')"
      ]
     },
     "execution_count": 6,
     "metadata": {},
     "output_type": "execute_result"
    }
   ],
   "source": [
    "loc_con.columns"
   ]
  },
  {
   "cell_type": "code",
   "execution_count": 7,
   "metadata": {},
   "outputs": [],
   "source": [
    "fact_up = pd.merge(fact,loc_con, how = 'left', on ='job_id' )\n",
    "soft_up = pd.merge(soft,loc_con, how = 'left', on ='job_id' )\n",
    "location_up = pd.merge(loc_con,location, how = 'left', on ='location_id' )"
   ]
  },
  {
   "cell_type": "code",
   "execution_count": 15,
   "metadata": {},
   "outputs": [],
   "source": [
    "fact_up.to_csv('Clean Data/fact_table.csv', index = False)\n",
    "soft_up.to_csv('Clean Data/software_names.csv', index = False)\n",
    "location_up.to_csv('Clean Data/google_location.csv', index = False)"
   ]
  },
  {
   "cell_type": "code",
   "execution_count": 14,
   "metadata": {},
   "outputs": [
    {
     "name": "stdout",
     "output_type": "stream",
     "text": [
      "Index(['job_id', 'jobTitle', 'jobCategory', 'CompanyName', 'CompanySize',\n",
      "       'Industry', 'Sector', 'StarRating', 'location_id'],\n",
      "      dtype='object') \n",
      "\n",
      " Index(['job_id', 'SoftName', 'SoftVendor', 'SoftCategory', 'location_id'], dtype='object') \n",
      "\n",
      " Index(['job_id', 'location_id', 'city', 'state', 'state_short', 'country',\n",
      "       'lat', 'lon', 'bbox'],\n",
      "      dtype='object')\n"
     ]
    }
   ],
   "source": [
    "print (fact_up.columns,'\\n\\n',soft_up.columns,'\\n\\n',location_up.columns  )"
   ]
  },
  {
   "cell_type": "code",
   "execution_count": 31,
   "metadata": {},
   "outputs": [],
   "source": [
    "soft = pd.read_csv('Clean Data/software_names.csv')"
   ]
  },
  {
   "cell_type": "code",
   "execution_count": 32,
   "metadata": {},
   "outputs": [
    {
     "data": {
      "text/plain": [
       "Index(['job_id', 'SoftName', 'SoftVendor', 'SoftCategory', 'location_id'], dtype='object')"
      ]
     },
     "execution_count": 32,
     "metadata": {},
     "output_type": "execute_result"
    }
   ],
   "source": [
    "soft.columns"
   ]
  },
  {
   "cell_type": "code",
   "execution_count": 33,
   "metadata": {},
   "outputs": [
    {
     "data": {
      "text/plain": [
       "Tableau                    2493\n",
       "Microsoft Power BI          719\n",
       "Google Analytics            549\n",
       "Looker                      194\n",
       "KEEN                        141\n",
       "Power BI                    120\n",
       "Azure Synapse Analytics     100\n",
       "IBM Cloud                    73\n",
       "Pentaho                      65\n",
       "IBM Watson Health            57\n",
       "Name: SoftName, dtype: int64"
      ]
     },
     "execution_count": 33,
     "metadata": {},
     "output_type": "execute_result"
    }
   ],
   "source": [
    "soft[soft.SoftCategory == 'Business Intelligence']['SoftName'].value_counts().head(10)"
   ]
  },
  {
   "cell_type": "code",
   "execution_count": 34,
   "metadata": {},
   "outputs": [],
   "source": [
    "soft['SoftName'] = soft['SoftName'].apply(lambda x: 'Microsoft Power BI' if x== 'Power BI' else x)"
   ]
  },
  {
   "cell_type": "code",
   "execution_count": 35,
   "metadata": {},
   "outputs": [
    {
     "data": {
      "text/plain": [
       "Other                    71526\n",
       "Programming Language     25840\n",
       "Business Intelligence     5505\n",
       "Data Warehouse            1305\n",
       "Name: SoftCategory, dtype: int64"
      ]
     },
     "execution_count": 35,
     "metadata": {},
     "output_type": "execute_result"
    }
   ],
   "source": [
    "soft.SoftCategory.value_counts()"
   ]
  },
  {
   "cell_type": "code",
   "execution_count": 36,
   "metadata": {},
   "outputs": [],
   "source": [
    "soft['SoftCategory']=soft.apply(lambda x: 'Other' if x['SoftName'] in ['IBM Cloud', 'IBM Watson Health'] else x['SoftCategory'], axis = 1) "
   ]
  },
  {
   "cell_type": "code",
   "execution_count": 37,
   "metadata": {},
   "outputs": [
    {
     "data": {
      "text/plain": [
       "Tableau                                                  2493\n",
       "Microsoft Power BI                                        839\n",
       "Google Analytics                                          549\n",
       "Looker                                                    194\n",
       "KEEN                                                      141\n",
       "Azure Synapse Analytics                                   100\n",
       "Pentaho                                                    65\n",
       "PRISM                                                      55\n",
       "Board                                                      51\n",
       "Oracle Business Intelligence Suite Enterprise Edition      50\n",
       "Name: SoftName, dtype: int64"
      ]
     },
     "execution_count": 37,
     "metadata": {},
     "output_type": "execute_result"
    }
   ],
   "source": [
    "soft[soft.SoftCategory == 'Business Intelligence']['SoftName'].value_counts().head(10)"
   ]
  },
  {
   "cell_type": "code",
   "execution_count": 38,
   "metadata": {},
   "outputs": [],
   "source": [
    "soft[\"Count1\"] =1"
   ]
  },
  {
   "cell_type": "code",
   "execution_count": 39,
   "metadata": {},
   "outputs": [
    {
     "data": {
      "text/html": [
       "<div>\n",
       "<style scoped>\n",
       "    .dataframe tbody tr th:only-of-type {\n",
       "        vertical-align: middle;\n",
       "    }\n",
       "\n",
       "    .dataframe tbody tr th {\n",
       "        vertical-align: top;\n",
       "    }\n",
       "\n",
       "    .dataframe thead th {\n",
       "        text-align: right;\n",
       "    }\n",
       "</style>\n",
       "<table border=\"1\" class=\"dataframe\">\n",
       "  <thead>\n",
       "    <tr style=\"text-align: right;\">\n",
       "      <th></th>\n",
       "      <th>job_id</th>\n",
       "      <th>SoftName</th>\n",
       "      <th>SoftVendor</th>\n",
       "      <th>SoftCategory</th>\n",
       "      <th>location_id</th>\n",
       "      <th>Count1</th>\n",
       "    </tr>\n",
       "  </thead>\n",
       "  <tbody>\n",
       "    <tr>\n",
       "      <th>0</th>\n",
       "      <td>3394200362</td>\n",
       "      <td>Microsoft Office</td>\n",
       "      <td>Microsoft</td>\n",
       "      <td>Other</td>\n",
       "      <td>2585522626</td>\n",
       "      <td>1</td>\n",
       "    </tr>\n",
       "    <tr>\n",
       "      <th>1</th>\n",
       "      <td>3395019069</td>\n",
       "      <td>Not mentioned</td>\n",
       "      <td>NaN</td>\n",
       "      <td>NaN</td>\n",
       "      <td>2585522626</td>\n",
       "      <td>1</td>\n",
       "    </tr>\n",
       "    <tr>\n",
       "      <th>2</th>\n",
       "      <td>3310569642</td>\n",
       "      <td>Amazon Web Services</td>\n",
       "      <td>Amazon</td>\n",
       "      <td>Other</td>\n",
       "      <td>2585522626</td>\n",
       "      <td>1</td>\n",
       "    </tr>\n",
       "    <tr>\n",
       "      <th>3</th>\n",
       "      <td>3310569642</td>\n",
       "      <td>Tableau</td>\n",
       "      <td>Tableau</td>\n",
       "      <td>Business Intelligence</td>\n",
       "      <td>2585522626</td>\n",
       "      <td>1</td>\n",
       "    </tr>\n",
       "    <tr>\n",
       "      <th>4</th>\n",
       "      <td>3310569642</td>\n",
       "      <td>Java</td>\n",
       "      <td>NaN</td>\n",
       "      <td>Programming Language</td>\n",
       "      <td>2585522626</td>\n",
       "      <td>1</td>\n",
       "    </tr>\n",
       "  </tbody>\n",
       "</table>\n",
       "</div>"
      ],
      "text/plain": [
       "       job_id             SoftName SoftVendor           SoftCategory  \\\n",
       "0  3394200362     Microsoft Office  Microsoft                  Other   \n",
       "1  3395019069        Not mentioned        NaN                    NaN   \n",
       "2  3310569642  Amazon Web Services     Amazon                  Other   \n",
       "3  3310569642              Tableau    Tableau  Business Intelligence   \n",
       "4  3310569642                 Java        NaN   Programming Language   \n",
       "\n",
       "   location_id  Count1  \n",
       "0   2585522626       1  \n",
       "1   2585522626       1  \n",
       "2   2585522626       1  \n",
       "3   2585522626       1  \n",
       "4   2585522626       1  "
      ]
     },
     "execution_count": 39,
     "metadata": {},
     "output_type": "execute_result"
    }
   ],
   "source": [
    "soft.head()"
   ]
  },
  {
   "cell_type": "code",
   "execution_count": 40,
   "metadata": {},
   "outputs": [],
   "source": [
    "soft.to_csv('Clean Data/software_names.csv', index = False)"
   ]
  },
  {
   "cell_type": "code",
   "execution_count": null,
   "metadata": {},
   "outputs": [],
   "source": []
  }
 ],
 "metadata": {
  "kernelspec": {
   "display_name": "Python 3",
   "language": "python",
   "name": "python3"
  },
  "language_info": {
   "codemirror_mode": {
    "name": "ipython",
    "version": 3
   },
   "file_extension": ".py",
   "mimetype": "text/x-python",
   "name": "python",
   "nbconvert_exporter": "python",
   "pygments_lexer": "ipython3",
   "version": "3.7.3"
  }
 },
 "nbformat": 4,
 "nbformat_minor": 4
}

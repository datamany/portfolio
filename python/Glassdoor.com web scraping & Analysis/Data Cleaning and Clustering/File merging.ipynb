{
 "cells": [
  {
   "cell_type": "code",
   "execution_count": 120,
   "metadata": {},
   "outputs": [],
   "source": [
    "import os\n",
    "import glob\n",
    "import pandas as pd\n",
    "from IPython.display import clear_output"
   ]
  },
  {
   "cell_type": "markdown",
   "metadata": {},
   "source": [
    "Step 1: Import packages and set the working directory\n",
    "Change “/mydir” to your desired working directory."
   ]
  },
  {
   "cell_type": "code",
   "execution_count": 2,
   "metadata": {},
   "outputs": [],
   "source": [
    "#os.chdir(\"D:/Python Catalyst/Week 39 - Project work Selko_io/Glassdoor Archive Files/Python staff\\DataFrames/DataFrames/tables/lists\")\n",
    "#os.getcwd()"
   ]
  },
  {
   "cell_type": "markdown",
   "metadata": {},
   "source": [
    "Step 2: Use glob to match the pattern ‘csv’\n",
    "Match the pattern (‘csv’) and save the list of file names in the ‘all_filenames’ variable. You can check out this link to learn more about regular expression matching."
   ]
  },
  {
   "cell_type": "code",
   "execution_count": 3,
   "metadata": {},
   "outputs": [],
   "source": [
    "#extension = 'csv'\n",
    "#all_filenames = [i for i in glob.glob('*.{}'.format(extension))]"
   ]
  },
  {
   "cell_type": "markdown",
   "metadata": {},
   "source": [
    "Step 3: Combine all files in the list and export as CSV\n",
    "Use pandas to concatenate all files in the list and export as CSV. The output file is named “combined_csv.csv” located in your working directory."
   ]
  },
  {
   "cell_type": "code",
   "execution_count": 4,
   "metadata": {},
   "outputs": [],
   "source": [
    "#combine all files in the list\n",
    "#combined_csv = pd.concat([pd.read_csv(f) for f in all_filenames ])\n",
    "# Specify the folder to save the file\n",
    "#os.chdir('D:/Python Catalyst/Week 39 - Project work Selko_io/Analysis')\n",
    "#export to csv\n",
    "#combined_csv.to_csv( \"comb_lists.csv\", index=False, encoding='utf-8-sig')"
   ]
  },
  {
   "cell_type": "code",
   "execution_count": 5,
   "metadata": {},
   "outputs": [],
   "source": [
    "#Repeat the same operation for dictionaries\n",
    "#os.chdir(\"D:/Python Catalyst/Week 39 - Project work Selko_io/Glassdoor Archive Files/Python staff\\DataFrames/DataFrames/tables/dictionaries\")\n",
    "#extension = 'csv'\n",
    "#all_filenames = [i for i in glob.glob('*.{}'.format(extension))]\n",
    "#combined_csv = pd.concat([pd.read_csv(f) for f in all_filenames ])\n",
    "#os.chdir('D:/Python Catalyst/Week 39 - Project work Selko_io/Analysis')\n",
    "#combined_csv.to_csv( \"comb_dicts.csv\", index=False, encoding='utf-8-sig')"
   ]
  },
  {
   "cell_type": "code",
   "execution_count": 6,
   "metadata": {},
   "outputs": [],
   "source": [
    "lists_df = pd.read_csv('comb_lists.csv')\n",
    "dicts_df = pd.read_csv('comb_dicts.csv')"
   ]
  },
  {
   "cell_type": "code",
   "execution_count": 7,
   "metadata": {},
   "outputs": [
    {
     "name": "stdout",
     "output_type": "stream",
     "text": [
      "Lists_df shape: (76440, 10)\n",
      "Dicts_df shape: (76675, 2)\n"
     ]
    }
   ],
   "source": [
    "print('Lists_df shape:', lists_df.shape)\n",
    "print('Dicts_df shape:', dicts_df.shape)"
   ]
  },
  {
   "cell_type": "code",
   "execution_count": 8,
   "metadata": {},
   "outputs": [
    {
     "data": {
      "text/plain": [
       "41"
      ]
     },
     "execution_count": 8,
     "metadata": {},
     "output_type": "execute_result"
    }
   ],
   "source": [
    "# duplicates in lists_df\n",
    "lists_df.id.value_counts()[lists_df.id.value_counts()>1].count()"
   ]
  },
  {
   "cell_type": "code",
   "execution_count": 9,
   "metadata": {},
   "outputs": [
    {
     "data": {
      "text/plain": [
       "1657"
      ]
     },
     "execution_count": 9,
     "metadata": {},
     "output_type": "execute_result"
    }
   ],
   "source": [
    "dicts_df.id.value_counts()[dicts_df.id.value_counts()>1].count()"
   ]
  },
  {
   "cell_type": "code",
   "execution_count": 10,
   "metadata": {},
   "outputs": [],
   "source": [
    "import re\n",
    "\n",
    "def cleanhtml(raw_html):\n",
    "    cleanr = re.compile('<.*?>')\n",
    "    cleantext = re.sub(cleanr, '', raw_html)\n",
    "    #cleantext = cleantext.replace('\\n', ' ')\n",
    "    return cleantext"
   ]
  },
  {
   "cell_type": "code",
   "execution_count": 11,
   "metadata": {},
   "outputs": [
    {
     "data": {
      "text/plain": [
       "\"\\n    print('jobTitle: ',one_line['jlData']['gaTrackerData']['jobTitle']) # jobTitle\\n    print('GDJobTitle: ', one_line['jlData']['header']['normalizedJobTitle']) # GlassDoor Job title\\n    print('Location: ', one_line['jlData']['header']['location']) # Location\\n\\n    # Comp data\\n    print()\\n    print('CompanyName: ',one_line['jlData']['gaTrackerData']['empName']) # companyName\\n    print('HqLocation: ', one_line['jlData']['overview']['hq']) #HQ location\\n    print('CompanySize: ',one_line['jlData']['gaTrackerData']['empSize']) #CompanySize\\n    print('Industry: ',one_line['jlData']['gaTrackerData']['industry']) # Industry\\n    print('Sector: ',one_line['jlData']['gaTrackerData']['sector']) # Sector\\n    #Rating\\n    print('Star_rating: ', one_line['jlData']['rating']['starRating']) # Star Rating\\n    print('Recommended_to_friend: ', one_line['jlData']['rating']['recommendToFriend']) #Star Rate reccomended to a friend\\n    print()\\n    print('Description:')\\n    print()\\n    print(cleanhtml(one_line['jlData']['job']['description']))\\n\""
      ]
     },
     "execution_count": 11,
     "metadata": {},
     "output_type": "execute_result"
    }
   ],
   "source": [
    "\"\"\"\n",
    "    print('jobTitle: ',one_line['jlData']['gaTrackerData']['jobTitle']) # jobTitle\n",
    "    print('GDJobTitle: ', one_line['jlData']['header']['normalizedJobTitle']) # GlassDoor Job title\n",
    "    print('Location: ', one_line['jlData']['header']['location']) # Location\n",
    "\n",
    "    # Comp data\n",
    "    print()\n",
    "    print('CompanyName: ',one_line['jlData']['gaTrackerData']['empName']) # companyName\n",
    "    print('HqLocation: ', one_line['jlData']['overview']['hq']) #HQ location\n",
    "    print('CompanySize: ',one_line['jlData']['gaTrackerData']['empSize']) #CompanySize\n",
    "    print('Industry: ',one_line['jlData']['gaTrackerData']['industry']) # Industry\n",
    "    print('Sector: ',one_line['jlData']['gaTrackerData']['sector']) # Sector\n",
    "    #Rating\n",
    "    print('Star_rating: ', one_line['jlData']['rating']['starRating']) # Star Rating\n",
    "    print('Recommended_to_friend: ', one_line['jlData']['rating']['recommendToFriend']) #Star Rate reccomended to a friend\n",
    "    print()\n",
    "    print('Description:')\n",
    "    print()\n",
    "    print(cleanhtml(one_line['jlData']['job']['description']))\n",
    "\"\"\""
   ]
  },
  {
   "cell_type": "code",
   "execution_count": 12,
   "metadata": {},
   "outputs": [
    {
     "data": {
      "text/plain": [
       "'\\nlist_with_jobs = []\\ndif_struc_list = []\\n\\nfor i in range(len(dicts_df)):\\n    \\n    one_line = dicts_df.dictionary[i]\\n    one_line =literal_eval(one_line)\\n    \\n    if (\\'jlData\\' in one_line.keys() and \\'gaTrackerData\\' in one_line[\\'jlData\\'].keys()):\\n        job_id = int(dicts_df.id[i])\\n        \\n        jobTitle = one_line[\\'jlData\\'][\\'gaTrackerData\\'][\\'jobTitle\\']\\n        CompanySize = one_line[\\'jlData\\'][\\'gaTrackerData\\'][\\'empSize\\'] if \\'empSize\\' in one_line[\\'jlData\\'][\\'gaTrackerData\\'].keys() else \\'Null\\'\\n        Industry = one_line[\\'jlData\\'][\\'gaTrackerData\\'][\\'industry\\'] if \\'industry\\' in one_line[\\'jlData\\'][\\'gaTrackerData\\'].keys() else \\'Null\\'\\n        Sector = one_line[\\'jlData\\'][\\'gaTrackerData\\'][\\'sector\\'] if \\'sector\\' in one_line[\\'jlData\\'][\\'gaTrackerData\\'].keys() else \\'Null\\'\\n        \\n        GDJobTitle = one_line[\\'jlData\\'][\\'header\\'][\\'normalizedJobTitle\\'] if \\'normalizedJobTitle\\' in one_line[\\'jlData\\'][\\'header\\'].keys() else \\'Null\\'\\n        Location = one_line[\\'jlData\\'][\\'header\\'][\\'location\\']\\n        \\n        CompanyName = one_line[\\'jlData\\'][\\'header\\'][\\'employerName\\'] if \\'employerName\\' in one_line[\\'jlData\\'][\\'header\\'].keys() else \\'Null\\'\\n        HqLocation = one_line[\\'jlData\\'][\\'overview\\'][\\'hq\\']  if \\'hq\\' in one_line[\\'jlData\\'][\\'overview\\'].keys() else \\'Null\\'\\n        \\n        Star_rating = one_line[\\'jlData\\'][\\'rating\\'][\\'starRating\\'] if \\'rating\\' in one_line[\\'jlData\\'].keys() else \\'Null\\'\\n        Recommended_to_friend = one_line[\\'jlData\\'][\\'rating\\'][\\'recommendToFriend\\'] if \\'raiting\\' in one_line[\\'jlData\\'].keys()  else \\'Null\\'\\n        description = cleanhtml(one_line[\\'jlData\\'][\\'job\\'][\\'description\\']) if \\'description\\' in one_line[\\'jlData\\'][\\'job\\'].keys() else \\'Null\\'\\n\\n\\n        di = {\\n            \\'job_id\\': job_id,\\n            \"jobTitle\": jobTitle,\\n            \\'GDJobTitle\\': GDJobTitle,\\n            \\'Location\\': Location,\\n            \\'CompanyName\\': CompanyName,\\n            \\'HqLocation\\': HqLocation,\\n            \\'CompanySize\\': CompanySize,\\n            \\'Industry\\': Industry,\\n            \\'Sector\\': Sector,\\n            \\'Star_rating\\': Star_rating,\\n            \\'Recommended_to_friend\\': Recommended_to_friend,\\n            \\'description\\': description\\n        }\\n\\n        list_with_jobs.append(di)\\n        clear_output()\\n        print(i)\\n    else:\\n        dif_struc_list.append(dicts_df.id[i])\\n        pass\\n#df_extarcted = pd.DataFrame(list_with_jobs)  \\nprint(\"ready\")\\n\\n\\n\\ndf_extarcted = pd.DataFrame(list_with_jobs)\\n\\ndf_extarcted = df_extarcted[[\\'job_id\\',\"jobTitle\",\\'GDJobTitle\\', \\'Location\\', \\'CompanyName\\',\\'HqLocation\\',\\'CompanySize\\',\\'Industry\\',\\'Sector\\',\\'Star_rating\\',\\'Recommended_to_friend\\',\\'description\\']]\\n\\ndf_extarcted.sample(10)\\nos.chdir(\"D:/Python Catalyst/Week 39 - Project work Selko_io/Analysis\")\\n\\ndf_extarcted.to_csv(\\'extracted_from_js.csv\\', index = False)\\n\\npd.DataFrame(dif_struc_list).to_csv(\\'indexes_jobs_not_extracted.csv\\', index = False)\\n\\n'"
      ]
     },
     "execution_count": 12,
     "metadata": {},
     "output_type": "execute_result"
    }
   ],
   "source": [
    "\"\"\"\n",
    "list_with_jobs = []\n",
    "dif_struc_list = []\n",
    "\n",
    "for i in range(len(dicts_df)):\n",
    "    \n",
    "    one_line = dicts_df.dictionary[i]\n",
    "    one_line =literal_eval(one_line)\n",
    "    \n",
    "    if ('jlData' in one_line.keys() and 'gaTrackerData' in one_line['jlData'].keys()):\n",
    "        job_id = int(dicts_df.id[i])\n",
    "        \n",
    "        jobTitle = one_line['jlData']['gaTrackerData']['jobTitle']\n",
    "        CompanySize = one_line['jlData']['gaTrackerData']['empSize'] if 'empSize' in one_line['jlData']['gaTrackerData'].keys() else 'Null'\n",
    "        Industry = one_line['jlData']['gaTrackerData']['industry'] if 'industry' in one_line['jlData']['gaTrackerData'].keys() else 'Null'\n",
    "        Sector = one_line['jlData']['gaTrackerData']['sector'] if 'sector' in one_line['jlData']['gaTrackerData'].keys() else 'Null'\n",
    "        \n",
    "        GDJobTitle = one_line['jlData']['header']['normalizedJobTitle'] if 'normalizedJobTitle' in one_line['jlData']['header'].keys() else 'Null'\n",
    "        Location = one_line['jlData']['header']['location']\n",
    "        \n",
    "        CompanyName = one_line['jlData']['header']['employerName'] if 'employerName' in one_line['jlData']['header'].keys() else 'Null'\n",
    "        HqLocation = one_line['jlData']['overview']['hq']  if 'hq' in one_line['jlData']['overview'].keys() else 'Null'\n",
    "        \n",
    "        Star_rating = one_line['jlData']['rating']['starRating'] if 'rating' in one_line['jlData'].keys() else 'Null'\n",
    "        Recommended_to_friend = one_line['jlData']['rating']['recommendToFriend'] if 'raiting' in one_line['jlData'].keys()  else 'Null'\n",
    "        description = cleanhtml(one_line['jlData']['job']['description']) if 'description' in one_line['jlData']['job'].keys() else 'Null'\n",
    "\n",
    "\n",
    "        di = {\n",
    "            'job_id': job_id,\n",
    "            \"jobTitle\": jobTitle,\n",
    "            'GDJobTitle': GDJobTitle,\n",
    "            'Location': Location,\n",
    "            'CompanyName': CompanyName,\n",
    "            'HqLocation': HqLocation,\n",
    "            'CompanySize': CompanySize,\n",
    "            'Industry': Industry,\n",
    "            'Sector': Sector,\n",
    "            'Star_rating': Star_rating,\n",
    "            'Recommended_to_friend': Recommended_to_friend,\n",
    "            'description': description\n",
    "        }\n",
    "\n",
    "        list_with_jobs.append(di)\n",
    "        clear_output()\n",
    "        print(i)\n",
    "    else:\n",
    "        dif_struc_list.append(dicts_df.id[i])\n",
    "        pass\n",
    "#df_extarcted = pd.DataFrame(list_with_jobs)  \n",
    "print(\"ready\")\n",
    "\n",
    "\n",
    "\n",
    "df_extarcted = pd.DataFrame(list_with_jobs)\n",
    "\n",
    "df_extarcted = df_extarcted[['job_id',\"jobTitle\",'GDJobTitle', 'Location', 'CompanyName','HqLocation','CompanySize','Industry','Sector','Star_rating','Recommended_to_friend','description']]\n",
    "\n",
    "df_extarcted.sample(10)\n",
    "os.chdir(\"D:/Python Catalyst/Week 39 - Project work Selko_io/Analysis\")\n",
    "\n",
    "df_extarcted.to_csv('extracted_from_js.csv', index = False)\n",
    "\n",
    "pd.DataFrame(dif_struc_list).to_csv('indexes_jobs_not_extracted.csv', index = False)\n",
    "\n",
    "\"\"\""
   ]
  },
  {
   "cell_type": "code",
   "execution_count": 13,
   "metadata": {},
   "outputs": [],
   "source": [
    "from ast import literal_eval\n",
    "one_lineline_num = 9841\n",
    "one_line = dicts_df.dictionary[one_lineline_num]\n",
    "one_line =literal_eval(one_line)"
   ]
  },
  {
   "cell_type": "code",
   "execution_count": 14,
   "metadata": {},
   "outputs": [],
   "source": [
    "dif_struc_list = pd.read_csv('indexes_jobs_not_extracted.csv')\n",
    "dif_struc_list.columns = ['index_num']\n",
    "dif_struc_list = dif_struc_list.index_num.to_list()"
   ]
  },
  {
   "cell_type": "code",
   "execution_count": 15,
   "metadata": {},
   "outputs": [],
   "source": [
    "df_dif_struc = dicts_df[dicts_df.id.isin( dif_struc_list)]"
   ]
  },
  {
   "cell_type": "code",
   "execution_count": 16,
   "metadata": {},
   "outputs": [
    {
     "data": {
      "text/plain": [
       "(8494, 2)"
      ]
     },
     "execution_count": 16,
     "metadata": {},
     "output_type": "execute_result"
    }
   ],
   "source": [
    "df_dif_struc.shape"
   ]
  },
  {
   "cell_type": "code",
   "execution_count": 17,
   "metadata": {},
   "outputs": [],
   "source": [
    "exjs_df = pd.read_csv('extracted_from_js.csv')"
   ]
  },
  {
   "cell_type": "code",
   "execution_count": null,
   "metadata": {},
   "outputs": [],
   "source": [
    "exjs_df.description[105]"
   ]
  },
  {
   "cell_type": "code",
   "execution_count": 19,
   "metadata": {},
   "outputs": [],
   "source": [
    "#print(exjs_df[exjs_df.columns[-1]][1])"
   ]
  },
  {
   "cell_type": "code",
   "execution_count": 20,
   "metadata": {},
   "outputs": [],
   "source": [
    "not_ex_js = pd.read_csv('indexes_jobs_not_extracted.csv')"
   ]
  },
  {
   "cell_type": "code",
   "execution_count": 29,
   "metadata": {},
   "outputs": [],
   "source": [
    "not_ex_df = dicts_df[dicts_df.id.isin(list(not_ex_js['0']))]"
   ]
  },
  {
   "cell_type": "code",
   "execution_count": 106,
   "metadata": {},
   "outputs": [],
   "source": [
    "ind_ls = not_ex_df.dictionary.index\n",
    "line_num = 850\n",
    "line = literal_eval(not_ex_df.dictionary[ind_ls[line_num]])"
   ]
  },
  {
   "cell_type": "code",
   "execution_count": 107,
   "metadata": {},
   "outputs": [
    {
     "data": {
      "text/plain": [
       "dict_keys(['@context', '@type', 'title', 'url', 'datePosted', 'employmentType', 'salaryCurrency', 'estimatedSalary', 'validThrough', 'industry', 'hiringOrganization', 'jobLocation', 'occupationalCategory', 'description'])"
      ]
     },
     "execution_count": 107,
     "metadata": {},
     "output_type": "execute_result"
    }
   ],
   "source": [
    "line.keys()"
   ]
  },
  {
   "cell_type": "code",
   "execution_count": null,
   "metadata": {},
   "outputs": [],
   "source": [
    "\"\"\"\n",
    "not_ex_js\n",
    "ind_ls = not_ex_df.dictionary.index\n",
    "list_with_jobs = []\n",
    "for i in range(len(not_ex_df)):\n",
    "    \n",
    "    line = literal_eval(not_ex_df.dictionary[ind_ls[i]])   \n",
    "    if 'description' in line.keys():\n",
    "    \n",
    "        job_id = int(dicts_df.id[ind_ls[i]])\n",
    "        jobTitle = line['title'] # jobTitle\n",
    "        GDJobTitle = line['occupationalCategory'][1] if 'occupationalCategory' in line.keys() else 'Null' # GlassDoor Job title ------- IF\n",
    "        Location = line['jobLocation']['address']['addressLocality'] +', ' + line['jobLocation']['address']['addressRegion'] # Location\n",
    "        CompanyName = line['hiringOrganization']['name'] # companyName\n",
    "        Industry = line['industry'] if 'industry' in line.keys() else 'Null' # Industry ------------------IF\n",
    "        description = cleanhtml(line['description'])\n",
    "\n",
    "        di = {\n",
    "                    'job_id': job_id,\n",
    "                    \"jobTitle\": jobTitle,\n",
    "                    'GDJobTitle': GDJobTitle,\n",
    "                    'Location': Location,\n",
    "                    'CompanyName': CompanyName,\n",
    "                    'Industry': Industry,\n",
    "                    'description': description\n",
    "                }\n",
    "\n",
    "        list_with_jobs.append(di)\n",
    "        clear_output()\n",
    "        print(i)\n",
    "        \n",
    "    else:\n",
    "        pass\n",
    "    \n",
    "print('ready')\n",
    "\n",
    "\"\"\""
   ]
  },
  {
   "cell_type": "code",
   "execution_count": 200,
   "metadata": {},
   "outputs": [],
   "source": [
    "\n",
    "\n",
    "plus_js = pd.DataFrame (list_with_jobs)\n",
    "\n",
    "plus_js.columns\n",
    "\n",
    "exjs_df.columns\n",
    "\n",
    "extratcted_df = pd.concat([plus_js,exjs_df],sort = False, ignore_index = True)\n",
    "\n",
    "extratcted_df = extratcted_df[['job_id',\"jobTitle\",'GDJobTitle', 'Location', 'CompanyName','HqLocation','CompanySize','Industry','Sector','Star_rating','Recommended_to_friend','description']]\n",
    "\n",
    "os.chdir(\"D:/Python Catalyst/Week 39 - Project work Selko_io/Analysis\")\n",
    "\n",
    "extratcted_df = extratcted_df.replace('Null', None)\n",
    "\n",
    "#del extratcted_df['Recommended_to_friend']\n",
    "\n",
    "extratcted_df = extratcted_df.drop_duplicates(subset=['job_id'], keep='first')\n",
    "\n",
    "extratcted_df.info()\n",
    "extratcted_df.to_csv('all_exctracted_js.csv', index = False)"
   ]
  },
  {
   "cell_type": "code",
   "execution_count": 199,
   "metadata": {},
   "outputs": [
    {
     "data": {
      "text/plain": [
       "job_id                                                3394167867\n",
       "jobTitle         QA ENGINEER (Protractor) Location: Atlanta GA )\n",
       "GDJobTitle                                  Industrial Engineers\n",
       "Location                                             Atlanta, GA\n",
       "CompanyName                           Propelsys Technologies LLC\n",
       "HqLocation                                                   NaN\n",
       "CompanySize                                                  NaN\n",
       "Industry                                       Business Services\n",
       "Sector                                                       NaN\n",
       "Star_rating                                                  NaN\n",
       "description    &lt;strong&gt;Position : QA ENGINEER (Protract...\n",
       "Name: 1, dtype: object"
      ]
     },
     "execution_count": 199,
     "metadata": {},
     "output_type": "execute_result"
    }
   ],
   "source": [
    "extratcted_df.loc[1]"
   ]
  },
  {
   "cell_type": "code",
   "execution_count": null,
   "metadata": {},
   "outputs": [],
   "source": []
  }
 ],
 "metadata": {
  "kernelspec": {
   "display_name": "Python 3",
   "language": "python",
   "name": "python3"
  },
  "language_info": {
   "codemirror_mode": {
    "name": "ipython",
    "version": 3
   },
   "file_extension": ".py",
   "mimetype": "text/x-python",
   "name": "python",
   "nbconvert_exporter": "python",
   "pygments_lexer": "ipython3",
   "version": "3.7.3"
  }
 },
 "nbformat": 4,
 "nbformat_minor": 4
}
